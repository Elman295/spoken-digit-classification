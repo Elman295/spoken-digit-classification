{
  "nbformat": 4,
  "nbformat_minor": 0,
  "metadata": {
    "colab": {
      "provenance": [],
      "authorship_tag": "ABX9TyNDYRy4abYbuu34AmvQqB+U",
      "include_colab_link": true
    },
    "kernelspec": {
      "name": "python3",
      "display_name": "Python 3"
    },
    "language_info": {
      "name": "python"
    },
    "widgets": {
      "application/vnd.jupyter.widget-state+json": {
        "92a77ca6dd904e6ca8811805ae75f8bf": {
          "model_module": "@jupyter-widgets/controls",
          "model_name": "HBoxModel",
          "model_module_version": "1.5.0",
          "state": {
            "_dom_classes": [],
            "_model_module": "@jupyter-widgets/controls",
            "_model_module_version": "1.5.0",
            "_model_name": "HBoxModel",
            "_view_count": null,
            "_view_module": "@jupyter-widgets/controls",
            "_view_module_version": "1.5.0",
            "_view_name": "HBoxView",
            "box_style": "",
            "children": [
              "IPY_MODEL_69e0a531021c40aeb21d7cb3b0cc56fc",
              "IPY_MODEL_fabf7ee278a743309648024e83d4fc0f",
              "IPY_MODEL_45f01d08a2c743cc8e3174b32a1b551b"
            ],
            "layout": "IPY_MODEL_207924d1c20d4bc3bfee1137cbbe130c"
          }
        },
        "69e0a531021c40aeb21d7cb3b0cc56fc": {
          "model_module": "@jupyter-widgets/controls",
          "model_name": "HTMLModel",
          "model_module_version": "1.5.0",
          "state": {
            "_dom_classes": [],
            "_model_module": "@jupyter-widgets/controls",
            "_model_module_version": "1.5.0",
            "_model_name": "HTMLModel",
            "_view_count": null,
            "_view_module": "@jupyter-widgets/controls",
            "_view_module_version": "1.5.0",
            "_view_name": "HTMLView",
            "description": "",
            "description_tooltip": null,
            "layout": "IPY_MODEL_6181b5985b454b58b8a8bdfcd67a1156",
            "placeholder": "​",
            "style": "IPY_MODEL_0ecc54e245bc4b0aa32c819c5b53b411",
            "value": "Dl Completed...: 100%"
          }
        },
        "fabf7ee278a743309648024e83d4fc0f": {
          "model_module": "@jupyter-widgets/controls",
          "model_name": "FloatProgressModel",
          "model_module_version": "1.5.0",
          "state": {
            "_dom_classes": [],
            "_model_module": "@jupyter-widgets/controls",
            "_model_module_version": "1.5.0",
            "_model_name": "FloatProgressModel",
            "_view_count": null,
            "_view_module": "@jupyter-widgets/controls",
            "_view_module_version": "1.5.0",
            "_view_name": "ProgressView",
            "bar_style": "success",
            "description": "",
            "description_tooltip": null,
            "layout": "IPY_MODEL_ecdedce2db034416af3fd727d480ebac",
            "max": 1,
            "min": 0,
            "orientation": "horizontal",
            "style": "IPY_MODEL_0eaba953a9574034945025e4c9cca1f2",
            "value": 1
          }
        },
        "45f01d08a2c743cc8e3174b32a1b551b": {
          "model_module": "@jupyter-widgets/controls",
          "model_name": "HTMLModel",
          "model_module_version": "1.5.0",
          "state": {
            "_dom_classes": [],
            "_model_module": "@jupyter-widgets/controls",
            "_model_module_version": "1.5.0",
            "_model_name": "HTMLModel",
            "_view_count": null,
            "_view_module": "@jupyter-widgets/controls",
            "_view_module_version": "1.5.0",
            "_view_name": "HTMLView",
            "description": "",
            "description_tooltip": null,
            "layout": "IPY_MODEL_7726d3e3e9c045c8816e4b99914a078f",
            "placeholder": "​",
            "style": "IPY_MODEL_f64ebdf3464e4e4ab35ee3efe3009322",
            "value": " 1/1 [00:03&lt;00:00,  1.80s/ url]"
          }
        },
        "207924d1c20d4bc3bfee1137cbbe130c": {
          "model_module": "@jupyter-widgets/base",
          "model_name": "LayoutModel",
          "model_module_version": "1.2.0",
          "state": {
            "_model_module": "@jupyter-widgets/base",
            "_model_module_version": "1.2.0",
            "_model_name": "LayoutModel",
            "_view_count": null,
            "_view_module": "@jupyter-widgets/base",
            "_view_module_version": "1.2.0",
            "_view_name": "LayoutView",
            "align_content": null,
            "align_items": null,
            "align_self": null,
            "border": null,
            "bottom": null,
            "display": null,
            "flex": null,
            "flex_flow": null,
            "grid_area": null,
            "grid_auto_columns": null,
            "grid_auto_flow": null,
            "grid_auto_rows": null,
            "grid_column": null,
            "grid_gap": null,
            "grid_row": null,
            "grid_template_areas": null,
            "grid_template_columns": null,
            "grid_template_rows": null,
            "height": null,
            "justify_content": null,
            "justify_items": null,
            "left": null,
            "margin": null,
            "max_height": null,
            "max_width": null,
            "min_height": null,
            "min_width": null,
            "object_fit": null,
            "object_position": null,
            "order": null,
            "overflow": null,
            "overflow_x": null,
            "overflow_y": null,
            "padding": null,
            "right": null,
            "top": null,
            "visibility": null,
            "width": null
          }
        },
        "6181b5985b454b58b8a8bdfcd67a1156": {
          "model_module": "@jupyter-widgets/base",
          "model_name": "LayoutModel",
          "model_module_version": "1.2.0",
          "state": {
            "_model_module": "@jupyter-widgets/base",
            "_model_module_version": "1.2.0",
            "_model_name": "LayoutModel",
            "_view_count": null,
            "_view_module": "@jupyter-widgets/base",
            "_view_module_version": "1.2.0",
            "_view_name": "LayoutView",
            "align_content": null,
            "align_items": null,
            "align_self": null,
            "border": null,
            "bottom": null,
            "display": null,
            "flex": null,
            "flex_flow": null,
            "grid_area": null,
            "grid_auto_columns": null,
            "grid_auto_flow": null,
            "grid_auto_rows": null,
            "grid_column": null,
            "grid_gap": null,
            "grid_row": null,
            "grid_template_areas": null,
            "grid_template_columns": null,
            "grid_template_rows": null,
            "height": null,
            "justify_content": null,
            "justify_items": null,
            "left": null,
            "margin": null,
            "max_height": null,
            "max_width": null,
            "min_height": null,
            "min_width": null,
            "object_fit": null,
            "object_position": null,
            "order": null,
            "overflow": null,
            "overflow_x": null,
            "overflow_y": null,
            "padding": null,
            "right": null,
            "top": null,
            "visibility": null,
            "width": null
          }
        },
        "0ecc54e245bc4b0aa32c819c5b53b411": {
          "model_module": "@jupyter-widgets/controls",
          "model_name": "DescriptionStyleModel",
          "model_module_version": "1.5.0",
          "state": {
            "_model_module": "@jupyter-widgets/controls",
            "_model_module_version": "1.5.0",
            "_model_name": "DescriptionStyleModel",
            "_view_count": null,
            "_view_module": "@jupyter-widgets/base",
            "_view_module_version": "1.2.0",
            "_view_name": "StyleView",
            "description_width": ""
          }
        },
        "ecdedce2db034416af3fd727d480ebac": {
          "model_module": "@jupyter-widgets/base",
          "model_name": "LayoutModel",
          "model_module_version": "1.2.0",
          "state": {
            "_model_module": "@jupyter-widgets/base",
            "_model_module_version": "1.2.0",
            "_model_name": "LayoutModel",
            "_view_count": null,
            "_view_module": "@jupyter-widgets/base",
            "_view_module_version": "1.2.0",
            "_view_name": "LayoutView",
            "align_content": null,
            "align_items": null,
            "align_self": null,
            "border": null,
            "bottom": null,
            "display": null,
            "flex": null,
            "flex_flow": null,
            "grid_area": null,
            "grid_auto_columns": null,
            "grid_auto_flow": null,
            "grid_auto_rows": null,
            "grid_column": null,
            "grid_gap": null,
            "grid_row": null,
            "grid_template_areas": null,
            "grid_template_columns": null,
            "grid_template_rows": null,
            "height": null,
            "justify_content": null,
            "justify_items": null,
            "left": null,
            "margin": null,
            "max_height": null,
            "max_width": null,
            "min_height": null,
            "min_width": null,
            "object_fit": null,
            "object_position": null,
            "order": null,
            "overflow": null,
            "overflow_x": null,
            "overflow_y": null,
            "padding": null,
            "right": null,
            "top": null,
            "visibility": null,
            "width": "20px"
          }
        },
        "0eaba953a9574034945025e4c9cca1f2": {
          "model_module": "@jupyter-widgets/controls",
          "model_name": "ProgressStyleModel",
          "model_module_version": "1.5.0",
          "state": {
            "_model_module": "@jupyter-widgets/controls",
            "_model_module_version": "1.5.0",
            "_model_name": "ProgressStyleModel",
            "_view_count": null,
            "_view_module": "@jupyter-widgets/base",
            "_view_module_version": "1.2.0",
            "_view_name": "StyleView",
            "bar_color": null,
            "description_width": ""
          }
        },
        "7726d3e3e9c045c8816e4b99914a078f": {
          "model_module": "@jupyter-widgets/base",
          "model_name": "LayoutModel",
          "model_module_version": "1.2.0",
          "state": {
            "_model_module": "@jupyter-widgets/base",
            "_model_module_version": "1.2.0",
            "_model_name": "LayoutModel",
            "_view_count": null,
            "_view_module": "@jupyter-widgets/base",
            "_view_module_version": "1.2.0",
            "_view_name": "LayoutView",
            "align_content": null,
            "align_items": null,
            "align_self": null,
            "border": null,
            "bottom": null,
            "display": null,
            "flex": null,
            "flex_flow": null,
            "grid_area": null,
            "grid_auto_columns": null,
            "grid_auto_flow": null,
            "grid_auto_rows": null,
            "grid_column": null,
            "grid_gap": null,
            "grid_row": null,
            "grid_template_areas": null,
            "grid_template_columns": null,
            "grid_template_rows": null,
            "height": null,
            "justify_content": null,
            "justify_items": null,
            "left": null,
            "margin": null,
            "max_height": null,
            "max_width": null,
            "min_height": null,
            "min_width": null,
            "object_fit": null,
            "object_position": null,
            "order": null,
            "overflow": null,
            "overflow_x": null,
            "overflow_y": null,
            "padding": null,
            "right": null,
            "top": null,
            "visibility": null,
            "width": null
          }
        },
        "f64ebdf3464e4e4ab35ee3efe3009322": {
          "model_module": "@jupyter-widgets/controls",
          "model_name": "DescriptionStyleModel",
          "model_module_version": "1.5.0",
          "state": {
            "_model_module": "@jupyter-widgets/controls",
            "_model_module_version": "1.5.0",
            "_model_name": "DescriptionStyleModel",
            "_view_count": null,
            "_view_module": "@jupyter-widgets/base",
            "_view_module_version": "1.2.0",
            "_view_name": "StyleView",
            "description_width": ""
          }
        },
        "38c0468c77ad4bcfa819c7fa7a18aadd": {
          "model_module": "@jupyter-widgets/controls",
          "model_name": "HBoxModel",
          "model_module_version": "1.5.0",
          "state": {
            "_dom_classes": [],
            "_model_module": "@jupyter-widgets/controls",
            "_model_module_version": "1.5.0",
            "_model_name": "HBoxModel",
            "_view_count": null,
            "_view_module": "@jupyter-widgets/controls",
            "_view_module_version": "1.5.0",
            "_view_name": "HBoxView",
            "box_style": "",
            "children": [
              "IPY_MODEL_dce71f1aa23543b285df8ae8a9376b2f",
              "IPY_MODEL_d24070c9ae98423e885b56944c68da09",
              "IPY_MODEL_d0bce2fb376d4f508e4861ae33683efb"
            ],
            "layout": "IPY_MODEL_f549e7c4aa16442594145606ecff3ef2"
          }
        },
        "dce71f1aa23543b285df8ae8a9376b2f": {
          "model_module": "@jupyter-widgets/controls",
          "model_name": "HTMLModel",
          "model_module_version": "1.5.0",
          "state": {
            "_dom_classes": [],
            "_model_module": "@jupyter-widgets/controls",
            "_model_module_version": "1.5.0",
            "_model_name": "HTMLModel",
            "_view_count": null,
            "_view_module": "@jupyter-widgets/controls",
            "_view_module_version": "1.5.0",
            "_view_name": "HTMLView",
            "description": "",
            "description_tooltip": null,
            "layout": "IPY_MODEL_323d6b8f844b4b4fb5bae6499523c981",
            "placeholder": "​",
            "style": "IPY_MODEL_7e480fc5020a4ecc8b5646aa8478b790",
            "value": "Dl Size...: "
          }
        },
        "d24070c9ae98423e885b56944c68da09": {
          "model_module": "@jupyter-widgets/controls",
          "model_name": "FloatProgressModel",
          "model_module_version": "1.5.0",
          "state": {
            "_dom_classes": [],
            "_model_module": "@jupyter-widgets/controls",
            "_model_module_version": "1.5.0",
            "_model_name": "FloatProgressModel",
            "_view_count": null,
            "_view_module": "@jupyter-widgets/controls",
            "_view_module_version": "1.5.0",
            "_view_name": "ProgressView",
            "bar_style": "success",
            "description": "",
            "description_tooltip": null,
            "layout": "IPY_MODEL_f8fbbb9656964b61b959b823a92d8c84",
            "max": 1,
            "min": 0,
            "orientation": "horizontal",
            "style": "IPY_MODEL_e0a49656191043a2bbc61cff0fe7326c",
            "value": 1
          }
        },
        "d0bce2fb376d4f508e4861ae33683efb": {
          "model_module": "@jupyter-widgets/controls",
          "model_name": "HTMLModel",
          "model_module_version": "1.5.0",
          "state": {
            "_dom_classes": [],
            "_model_module": "@jupyter-widgets/controls",
            "_model_module_version": "1.5.0",
            "_model_name": "HTMLModel",
            "_view_count": null,
            "_view_module": "@jupyter-widgets/controls",
            "_view_module_version": "1.5.0",
            "_view_name": "HTMLView",
            "description": "",
            "description_tooltip": null,
            "layout": "IPY_MODEL_667adf3598814109b956faf360e6aea8",
            "placeholder": "​",
            "style": "IPY_MODEL_afc5a270592346518bd44398e3aefc09",
            "value": " 11/0 [00:03&lt;00:00,  8.50 MiB/s]"
          }
        },
        "f549e7c4aa16442594145606ecff3ef2": {
          "model_module": "@jupyter-widgets/base",
          "model_name": "LayoutModel",
          "model_module_version": "1.2.0",
          "state": {
            "_model_module": "@jupyter-widgets/base",
            "_model_module_version": "1.2.0",
            "_model_name": "LayoutModel",
            "_view_count": null,
            "_view_module": "@jupyter-widgets/base",
            "_view_module_version": "1.2.0",
            "_view_name": "LayoutView",
            "align_content": null,
            "align_items": null,
            "align_self": null,
            "border": null,
            "bottom": null,
            "display": null,
            "flex": null,
            "flex_flow": null,
            "grid_area": null,
            "grid_auto_columns": null,
            "grid_auto_flow": null,
            "grid_auto_rows": null,
            "grid_column": null,
            "grid_gap": null,
            "grid_row": null,
            "grid_template_areas": null,
            "grid_template_columns": null,
            "grid_template_rows": null,
            "height": null,
            "justify_content": null,
            "justify_items": null,
            "left": null,
            "margin": null,
            "max_height": null,
            "max_width": null,
            "min_height": null,
            "min_width": null,
            "object_fit": null,
            "object_position": null,
            "order": null,
            "overflow": null,
            "overflow_x": null,
            "overflow_y": null,
            "padding": null,
            "right": null,
            "top": null,
            "visibility": null,
            "width": null
          }
        },
        "323d6b8f844b4b4fb5bae6499523c981": {
          "model_module": "@jupyter-widgets/base",
          "model_name": "LayoutModel",
          "model_module_version": "1.2.0",
          "state": {
            "_model_module": "@jupyter-widgets/base",
            "_model_module_version": "1.2.0",
            "_model_name": "LayoutModel",
            "_view_count": null,
            "_view_module": "@jupyter-widgets/base",
            "_view_module_version": "1.2.0",
            "_view_name": "LayoutView",
            "align_content": null,
            "align_items": null,
            "align_self": null,
            "border": null,
            "bottom": null,
            "display": null,
            "flex": null,
            "flex_flow": null,
            "grid_area": null,
            "grid_auto_columns": null,
            "grid_auto_flow": null,
            "grid_auto_rows": null,
            "grid_column": null,
            "grid_gap": null,
            "grid_row": null,
            "grid_template_areas": null,
            "grid_template_columns": null,
            "grid_template_rows": null,
            "height": null,
            "justify_content": null,
            "justify_items": null,
            "left": null,
            "margin": null,
            "max_height": null,
            "max_width": null,
            "min_height": null,
            "min_width": null,
            "object_fit": null,
            "object_position": null,
            "order": null,
            "overflow": null,
            "overflow_x": null,
            "overflow_y": null,
            "padding": null,
            "right": null,
            "top": null,
            "visibility": null,
            "width": null
          }
        },
        "7e480fc5020a4ecc8b5646aa8478b790": {
          "model_module": "@jupyter-widgets/controls",
          "model_name": "DescriptionStyleModel",
          "model_module_version": "1.5.0",
          "state": {
            "_model_module": "@jupyter-widgets/controls",
            "_model_module_version": "1.5.0",
            "_model_name": "DescriptionStyleModel",
            "_view_count": null,
            "_view_module": "@jupyter-widgets/base",
            "_view_module_version": "1.2.0",
            "_view_name": "StyleView",
            "description_width": ""
          }
        },
        "f8fbbb9656964b61b959b823a92d8c84": {
          "model_module": "@jupyter-widgets/base",
          "model_name": "LayoutModel",
          "model_module_version": "1.2.0",
          "state": {
            "_model_module": "@jupyter-widgets/base",
            "_model_module_version": "1.2.0",
            "_model_name": "LayoutModel",
            "_view_count": null,
            "_view_module": "@jupyter-widgets/base",
            "_view_module_version": "1.2.0",
            "_view_name": "LayoutView",
            "align_content": null,
            "align_items": null,
            "align_self": null,
            "border": null,
            "bottom": null,
            "display": null,
            "flex": null,
            "flex_flow": null,
            "grid_area": null,
            "grid_auto_columns": null,
            "grid_auto_flow": null,
            "grid_auto_rows": null,
            "grid_column": null,
            "grid_gap": null,
            "grid_row": null,
            "grid_template_areas": null,
            "grid_template_columns": null,
            "grid_template_rows": null,
            "height": null,
            "justify_content": null,
            "justify_items": null,
            "left": null,
            "margin": null,
            "max_height": null,
            "max_width": null,
            "min_height": null,
            "min_width": null,
            "object_fit": null,
            "object_position": null,
            "order": null,
            "overflow": null,
            "overflow_x": null,
            "overflow_y": null,
            "padding": null,
            "right": null,
            "top": null,
            "visibility": null,
            "width": "20px"
          }
        },
        "e0a49656191043a2bbc61cff0fe7326c": {
          "model_module": "@jupyter-widgets/controls",
          "model_name": "ProgressStyleModel",
          "model_module_version": "1.5.0",
          "state": {
            "_model_module": "@jupyter-widgets/controls",
            "_model_module_version": "1.5.0",
            "_model_name": "ProgressStyleModel",
            "_view_count": null,
            "_view_module": "@jupyter-widgets/base",
            "_view_module_version": "1.2.0",
            "_view_name": "StyleView",
            "bar_color": null,
            "description_width": ""
          }
        },
        "667adf3598814109b956faf360e6aea8": {
          "model_module": "@jupyter-widgets/base",
          "model_name": "LayoutModel",
          "model_module_version": "1.2.0",
          "state": {
            "_model_module": "@jupyter-widgets/base",
            "_model_module_version": "1.2.0",
            "_model_name": "LayoutModel",
            "_view_count": null,
            "_view_module": "@jupyter-widgets/base",
            "_view_module_version": "1.2.0",
            "_view_name": "LayoutView",
            "align_content": null,
            "align_items": null,
            "align_self": null,
            "border": null,
            "bottom": null,
            "display": null,
            "flex": null,
            "flex_flow": null,
            "grid_area": null,
            "grid_auto_columns": null,
            "grid_auto_flow": null,
            "grid_auto_rows": null,
            "grid_column": null,
            "grid_gap": null,
            "grid_row": null,
            "grid_template_areas": null,
            "grid_template_columns": null,
            "grid_template_rows": null,
            "height": null,
            "justify_content": null,
            "justify_items": null,
            "left": null,
            "margin": null,
            "max_height": null,
            "max_width": null,
            "min_height": null,
            "min_width": null,
            "object_fit": null,
            "object_position": null,
            "order": null,
            "overflow": null,
            "overflow_x": null,
            "overflow_y": null,
            "padding": null,
            "right": null,
            "top": null,
            "visibility": null,
            "width": null
          }
        },
        "afc5a270592346518bd44398e3aefc09": {
          "model_module": "@jupyter-widgets/controls",
          "model_name": "DescriptionStyleModel",
          "model_module_version": "1.5.0",
          "state": {
            "_model_module": "@jupyter-widgets/controls",
            "_model_module_version": "1.5.0",
            "_model_name": "DescriptionStyleModel",
            "_view_count": null,
            "_view_module": "@jupyter-widgets/base",
            "_view_module_version": "1.2.0",
            "_view_name": "StyleView",
            "description_width": ""
          }
        },
        "72e5299e50c449c0a82553ddd0ce4b38": {
          "model_module": "@jupyter-widgets/controls",
          "model_name": "HBoxModel",
          "model_module_version": "1.5.0",
          "state": {
            "_dom_classes": [],
            "_model_module": "@jupyter-widgets/controls",
            "_model_module_version": "1.5.0",
            "_model_name": "HBoxModel",
            "_view_count": null,
            "_view_module": "@jupyter-widgets/controls",
            "_view_module_version": "1.5.0",
            "_view_name": "HBoxView",
            "box_style": "",
            "children": [
              "IPY_MODEL_9cce909e6a354d9bb4aca44eeb6394a1",
              "IPY_MODEL_3faa6dcbb5aa402582ef9756d0dcf67b",
              "IPY_MODEL_7eaf24ff27eb4113a2444e41ab1bef83"
            ],
            "layout": "IPY_MODEL_6aab3c1b76484d9486b66a7a63586110"
          }
        },
        "9cce909e6a354d9bb4aca44eeb6394a1": {
          "model_module": "@jupyter-widgets/controls",
          "model_name": "HTMLModel",
          "model_module_version": "1.5.0",
          "state": {
            "_dom_classes": [],
            "_model_module": "@jupyter-widgets/controls",
            "_model_module_version": "1.5.0",
            "_model_name": "HTMLModel",
            "_view_count": null,
            "_view_module": "@jupyter-widgets/controls",
            "_view_module_version": "1.5.0",
            "_view_name": "HTMLView",
            "description": "",
            "description_tooltip": null,
            "layout": "IPY_MODEL_56c9799d3a234a338c8d83e26d166052",
            "placeholder": "​",
            "style": "IPY_MODEL_8cf10541a50b46e9ab7adae0d6ccc998",
            "value": "Extraction completed...: 100%"
          }
        },
        "3faa6dcbb5aa402582ef9756d0dcf67b": {
          "model_module": "@jupyter-widgets/controls",
          "model_name": "FloatProgressModel",
          "model_module_version": "1.5.0",
          "state": {
            "_dom_classes": [],
            "_model_module": "@jupyter-widgets/controls",
            "_model_module_version": "1.5.0",
            "_model_name": "FloatProgressModel",
            "_view_count": null,
            "_view_module": "@jupyter-widgets/controls",
            "_view_module_version": "1.5.0",
            "_view_name": "ProgressView",
            "bar_style": "success",
            "description": "",
            "description_tooltip": null,
            "layout": "IPY_MODEL_0166abcbbeb64c8bb8df2b848ed3475b",
            "max": 1,
            "min": 0,
            "orientation": "horizontal",
            "style": "IPY_MODEL_2dac3d4db9064682918667f325fc1cff",
            "value": 1
          }
        },
        "7eaf24ff27eb4113a2444e41ab1bef83": {
          "model_module": "@jupyter-widgets/controls",
          "model_name": "HTMLModel",
          "model_module_version": "1.5.0",
          "state": {
            "_dom_classes": [],
            "_model_module": "@jupyter-widgets/controls",
            "_model_module_version": "1.5.0",
            "_model_name": "HTMLModel",
            "_view_count": null,
            "_view_module": "@jupyter-widgets/controls",
            "_view_module_version": "1.5.0",
            "_view_name": "HTMLView",
            "description": "",
            "description_tooltip": null,
            "layout": "IPY_MODEL_2b209f118c674e728c5bbf1ba8fe96eb",
            "placeholder": "​",
            "style": "IPY_MODEL_5353fe543eab41e4a6f3f11a78d12248",
            "value": " 1/1 [00:03&lt;00:00,  3.26s/ file]"
          }
        },
        "6aab3c1b76484d9486b66a7a63586110": {
          "model_module": "@jupyter-widgets/base",
          "model_name": "LayoutModel",
          "model_module_version": "1.2.0",
          "state": {
            "_model_module": "@jupyter-widgets/base",
            "_model_module_version": "1.2.0",
            "_model_name": "LayoutModel",
            "_view_count": null,
            "_view_module": "@jupyter-widgets/base",
            "_view_module_version": "1.2.0",
            "_view_name": "LayoutView",
            "align_content": null,
            "align_items": null,
            "align_self": null,
            "border": null,
            "bottom": null,
            "display": null,
            "flex": null,
            "flex_flow": null,
            "grid_area": null,
            "grid_auto_columns": null,
            "grid_auto_flow": null,
            "grid_auto_rows": null,
            "grid_column": null,
            "grid_gap": null,
            "grid_row": null,
            "grid_template_areas": null,
            "grid_template_columns": null,
            "grid_template_rows": null,
            "height": null,
            "justify_content": null,
            "justify_items": null,
            "left": null,
            "margin": null,
            "max_height": null,
            "max_width": null,
            "min_height": null,
            "min_width": null,
            "object_fit": null,
            "object_position": null,
            "order": null,
            "overflow": null,
            "overflow_x": null,
            "overflow_y": null,
            "padding": null,
            "right": null,
            "top": null,
            "visibility": null,
            "width": null
          }
        },
        "56c9799d3a234a338c8d83e26d166052": {
          "model_module": "@jupyter-widgets/base",
          "model_name": "LayoutModel",
          "model_module_version": "1.2.0",
          "state": {
            "_model_module": "@jupyter-widgets/base",
            "_model_module_version": "1.2.0",
            "_model_name": "LayoutModel",
            "_view_count": null,
            "_view_module": "@jupyter-widgets/base",
            "_view_module_version": "1.2.0",
            "_view_name": "LayoutView",
            "align_content": null,
            "align_items": null,
            "align_self": null,
            "border": null,
            "bottom": null,
            "display": null,
            "flex": null,
            "flex_flow": null,
            "grid_area": null,
            "grid_auto_columns": null,
            "grid_auto_flow": null,
            "grid_auto_rows": null,
            "grid_column": null,
            "grid_gap": null,
            "grid_row": null,
            "grid_template_areas": null,
            "grid_template_columns": null,
            "grid_template_rows": null,
            "height": null,
            "justify_content": null,
            "justify_items": null,
            "left": null,
            "margin": null,
            "max_height": null,
            "max_width": null,
            "min_height": null,
            "min_width": null,
            "object_fit": null,
            "object_position": null,
            "order": null,
            "overflow": null,
            "overflow_x": null,
            "overflow_y": null,
            "padding": null,
            "right": null,
            "top": null,
            "visibility": null,
            "width": null
          }
        },
        "8cf10541a50b46e9ab7adae0d6ccc998": {
          "model_module": "@jupyter-widgets/controls",
          "model_name": "DescriptionStyleModel",
          "model_module_version": "1.5.0",
          "state": {
            "_model_module": "@jupyter-widgets/controls",
            "_model_module_version": "1.5.0",
            "_model_name": "DescriptionStyleModel",
            "_view_count": null,
            "_view_module": "@jupyter-widgets/base",
            "_view_module_version": "1.2.0",
            "_view_name": "StyleView",
            "description_width": ""
          }
        },
        "0166abcbbeb64c8bb8df2b848ed3475b": {
          "model_module": "@jupyter-widgets/base",
          "model_name": "LayoutModel",
          "model_module_version": "1.2.0",
          "state": {
            "_model_module": "@jupyter-widgets/base",
            "_model_module_version": "1.2.0",
            "_model_name": "LayoutModel",
            "_view_count": null,
            "_view_module": "@jupyter-widgets/base",
            "_view_module_version": "1.2.0",
            "_view_name": "LayoutView",
            "align_content": null,
            "align_items": null,
            "align_self": null,
            "border": null,
            "bottom": null,
            "display": null,
            "flex": null,
            "flex_flow": null,
            "grid_area": null,
            "grid_auto_columns": null,
            "grid_auto_flow": null,
            "grid_auto_rows": null,
            "grid_column": null,
            "grid_gap": null,
            "grid_row": null,
            "grid_template_areas": null,
            "grid_template_columns": null,
            "grid_template_rows": null,
            "height": null,
            "justify_content": null,
            "justify_items": null,
            "left": null,
            "margin": null,
            "max_height": null,
            "max_width": null,
            "min_height": null,
            "min_width": null,
            "object_fit": null,
            "object_position": null,
            "order": null,
            "overflow": null,
            "overflow_x": null,
            "overflow_y": null,
            "padding": null,
            "right": null,
            "top": null,
            "visibility": null,
            "width": "20px"
          }
        },
        "2dac3d4db9064682918667f325fc1cff": {
          "model_module": "@jupyter-widgets/controls",
          "model_name": "ProgressStyleModel",
          "model_module_version": "1.5.0",
          "state": {
            "_model_module": "@jupyter-widgets/controls",
            "_model_module_version": "1.5.0",
            "_model_name": "ProgressStyleModel",
            "_view_count": null,
            "_view_module": "@jupyter-widgets/base",
            "_view_module_version": "1.2.0",
            "_view_name": "StyleView",
            "bar_color": null,
            "description_width": ""
          }
        },
        "2b209f118c674e728c5bbf1ba8fe96eb": {
          "model_module": "@jupyter-widgets/base",
          "model_name": "LayoutModel",
          "model_module_version": "1.2.0",
          "state": {
            "_model_module": "@jupyter-widgets/base",
            "_model_module_version": "1.2.0",
            "_model_name": "LayoutModel",
            "_view_count": null,
            "_view_module": "@jupyter-widgets/base",
            "_view_module_version": "1.2.0",
            "_view_name": "LayoutView",
            "align_content": null,
            "align_items": null,
            "align_self": null,
            "border": null,
            "bottom": null,
            "display": null,
            "flex": null,
            "flex_flow": null,
            "grid_area": null,
            "grid_auto_columns": null,
            "grid_auto_flow": null,
            "grid_auto_rows": null,
            "grid_column": null,
            "grid_gap": null,
            "grid_row": null,
            "grid_template_areas": null,
            "grid_template_columns": null,
            "grid_template_rows": null,
            "height": null,
            "justify_content": null,
            "justify_items": null,
            "left": null,
            "margin": null,
            "max_height": null,
            "max_width": null,
            "min_height": null,
            "min_width": null,
            "object_fit": null,
            "object_position": null,
            "order": null,
            "overflow": null,
            "overflow_x": null,
            "overflow_y": null,
            "padding": null,
            "right": null,
            "top": null,
            "visibility": null,
            "width": null
          }
        },
        "5353fe543eab41e4a6f3f11a78d12248": {
          "model_module": "@jupyter-widgets/controls",
          "model_name": "DescriptionStyleModel",
          "model_module_version": "1.5.0",
          "state": {
            "_model_module": "@jupyter-widgets/controls",
            "_model_module_version": "1.5.0",
            "_model_name": "DescriptionStyleModel",
            "_view_count": null,
            "_view_module": "@jupyter-widgets/base",
            "_view_module_version": "1.2.0",
            "_view_name": "StyleView",
            "description_width": ""
          }
        },
        "006184a3a2d6451bb383f4ee39567ca7": {
          "model_module": "@jupyter-widgets/controls",
          "model_name": "HBoxModel",
          "model_module_version": "1.5.0",
          "state": {
            "_dom_classes": [],
            "_model_module": "@jupyter-widgets/controls",
            "_model_module_version": "1.5.0",
            "_model_name": "HBoxModel",
            "_view_count": null,
            "_view_module": "@jupyter-widgets/controls",
            "_view_module_version": "1.5.0",
            "_view_name": "HBoxView",
            "box_style": "",
            "children": [
              "IPY_MODEL_711afa5b9e874c539ed4d67c25a4fa7c",
              "IPY_MODEL_c544a767c7eb46ef88a9b76a756c3cfb",
              "IPY_MODEL_89edc7c44f5342d48b0c3ec168b78ddc"
            ],
            "layout": "IPY_MODEL_b14b8a703ef64b9fb708b3ab6f9ec86d"
          }
        },
        "711afa5b9e874c539ed4d67c25a4fa7c": {
          "model_module": "@jupyter-widgets/controls",
          "model_name": "HTMLModel",
          "model_module_version": "1.5.0",
          "state": {
            "_dom_classes": [],
            "_model_module": "@jupyter-widgets/controls",
            "_model_module_version": "1.5.0",
            "_model_name": "HTMLModel",
            "_view_count": null,
            "_view_module": "@jupyter-widgets/controls",
            "_view_module_version": "1.5.0",
            "_view_name": "HTMLView",
            "description": "",
            "description_tooltip": null,
            "layout": "IPY_MODEL_d95a32fb0fd14d989d35461d8270892f",
            "placeholder": "​",
            "style": "IPY_MODEL_caf5beebfe904c4787f98290b3359173",
            "value": "Generating splits...: 100%"
          }
        },
        "c544a767c7eb46ef88a9b76a756c3cfb": {
          "model_module": "@jupyter-widgets/controls",
          "model_name": "FloatProgressModel",
          "model_module_version": "1.5.0",
          "state": {
            "_dom_classes": [],
            "_model_module": "@jupyter-widgets/controls",
            "_model_module_version": "1.5.0",
            "_model_name": "FloatProgressModel",
            "_view_count": null,
            "_view_module": "@jupyter-widgets/controls",
            "_view_module_version": "1.5.0",
            "_view_name": "ProgressView",
            "bar_style": "",
            "description": "",
            "description_tooltip": null,
            "layout": "IPY_MODEL_8968bdf24da748d2a2bd2774ea5e865a",
            "max": 1,
            "min": 0,
            "orientation": "horizontal",
            "style": "IPY_MODEL_7453389151784e4a8d31b3394a3f4648",
            "value": 1
          }
        },
        "89edc7c44f5342d48b0c3ec168b78ddc": {
          "model_module": "@jupyter-widgets/controls",
          "model_name": "HTMLModel",
          "model_module_version": "1.5.0",
          "state": {
            "_dom_classes": [],
            "_model_module": "@jupyter-widgets/controls",
            "_model_module_version": "1.5.0",
            "_model_name": "HTMLModel",
            "_view_count": null,
            "_view_module": "@jupyter-widgets/controls",
            "_view_module_version": "1.5.0",
            "_view_name": "HTMLView",
            "description": "",
            "description_tooltip": null,
            "layout": "IPY_MODEL_fbb7c7b1036d4d99822d82e332b863c2",
            "placeholder": "​",
            "style": "IPY_MODEL_74df5c2758d146e69d392b1503adfd9a",
            "value": " 1/1 [00:11&lt;00:00, 11.14s/ splits]"
          }
        },
        "b14b8a703ef64b9fb708b3ab6f9ec86d": {
          "model_module": "@jupyter-widgets/base",
          "model_name": "LayoutModel",
          "model_module_version": "1.2.0",
          "state": {
            "_model_module": "@jupyter-widgets/base",
            "_model_module_version": "1.2.0",
            "_model_name": "LayoutModel",
            "_view_count": null,
            "_view_module": "@jupyter-widgets/base",
            "_view_module_version": "1.2.0",
            "_view_name": "LayoutView",
            "align_content": null,
            "align_items": null,
            "align_self": null,
            "border": null,
            "bottom": null,
            "display": null,
            "flex": null,
            "flex_flow": null,
            "grid_area": null,
            "grid_auto_columns": null,
            "grid_auto_flow": null,
            "grid_auto_rows": null,
            "grid_column": null,
            "grid_gap": null,
            "grid_row": null,
            "grid_template_areas": null,
            "grid_template_columns": null,
            "grid_template_rows": null,
            "height": null,
            "justify_content": null,
            "justify_items": null,
            "left": null,
            "margin": null,
            "max_height": null,
            "max_width": null,
            "min_height": null,
            "min_width": null,
            "object_fit": null,
            "object_position": null,
            "order": null,
            "overflow": null,
            "overflow_x": null,
            "overflow_y": null,
            "padding": null,
            "right": null,
            "top": null,
            "visibility": "hidden",
            "width": null
          }
        },
        "d95a32fb0fd14d989d35461d8270892f": {
          "model_module": "@jupyter-widgets/base",
          "model_name": "LayoutModel",
          "model_module_version": "1.2.0",
          "state": {
            "_model_module": "@jupyter-widgets/base",
            "_model_module_version": "1.2.0",
            "_model_name": "LayoutModel",
            "_view_count": null,
            "_view_module": "@jupyter-widgets/base",
            "_view_module_version": "1.2.0",
            "_view_name": "LayoutView",
            "align_content": null,
            "align_items": null,
            "align_self": null,
            "border": null,
            "bottom": null,
            "display": null,
            "flex": null,
            "flex_flow": null,
            "grid_area": null,
            "grid_auto_columns": null,
            "grid_auto_flow": null,
            "grid_auto_rows": null,
            "grid_column": null,
            "grid_gap": null,
            "grid_row": null,
            "grid_template_areas": null,
            "grid_template_columns": null,
            "grid_template_rows": null,
            "height": null,
            "justify_content": null,
            "justify_items": null,
            "left": null,
            "margin": null,
            "max_height": null,
            "max_width": null,
            "min_height": null,
            "min_width": null,
            "object_fit": null,
            "object_position": null,
            "order": null,
            "overflow": null,
            "overflow_x": null,
            "overflow_y": null,
            "padding": null,
            "right": null,
            "top": null,
            "visibility": null,
            "width": null
          }
        },
        "caf5beebfe904c4787f98290b3359173": {
          "model_module": "@jupyter-widgets/controls",
          "model_name": "DescriptionStyleModel",
          "model_module_version": "1.5.0",
          "state": {
            "_model_module": "@jupyter-widgets/controls",
            "_model_module_version": "1.5.0",
            "_model_name": "DescriptionStyleModel",
            "_view_count": null,
            "_view_module": "@jupyter-widgets/base",
            "_view_module_version": "1.2.0",
            "_view_name": "StyleView",
            "description_width": ""
          }
        },
        "8968bdf24da748d2a2bd2774ea5e865a": {
          "model_module": "@jupyter-widgets/base",
          "model_name": "LayoutModel",
          "model_module_version": "1.2.0",
          "state": {
            "_model_module": "@jupyter-widgets/base",
            "_model_module_version": "1.2.0",
            "_model_name": "LayoutModel",
            "_view_count": null,
            "_view_module": "@jupyter-widgets/base",
            "_view_module_version": "1.2.0",
            "_view_name": "LayoutView",
            "align_content": null,
            "align_items": null,
            "align_self": null,
            "border": null,
            "bottom": null,
            "display": null,
            "flex": null,
            "flex_flow": null,
            "grid_area": null,
            "grid_auto_columns": null,
            "grid_auto_flow": null,
            "grid_auto_rows": null,
            "grid_column": null,
            "grid_gap": null,
            "grid_row": null,
            "grid_template_areas": null,
            "grid_template_columns": null,
            "grid_template_rows": null,
            "height": null,
            "justify_content": null,
            "justify_items": null,
            "left": null,
            "margin": null,
            "max_height": null,
            "max_width": null,
            "min_height": null,
            "min_width": null,
            "object_fit": null,
            "object_position": null,
            "order": null,
            "overflow": null,
            "overflow_x": null,
            "overflow_y": null,
            "padding": null,
            "right": null,
            "top": null,
            "visibility": null,
            "width": null
          }
        },
        "7453389151784e4a8d31b3394a3f4648": {
          "model_module": "@jupyter-widgets/controls",
          "model_name": "ProgressStyleModel",
          "model_module_version": "1.5.0",
          "state": {
            "_model_module": "@jupyter-widgets/controls",
            "_model_module_version": "1.5.0",
            "_model_name": "ProgressStyleModel",
            "_view_count": null,
            "_view_module": "@jupyter-widgets/base",
            "_view_module_version": "1.2.0",
            "_view_name": "StyleView",
            "bar_color": null,
            "description_width": ""
          }
        },
        "fbb7c7b1036d4d99822d82e332b863c2": {
          "model_module": "@jupyter-widgets/base",
          "model_name": "LayoutModel",
          "model_module_version": "1.2.0",
          "state": {
            "_model_module": "@jupyter-widgets/base",
            "_model_module_version": "1.2.0",
            "_model_name": "LayoutModel",
            "_view_count": null,
            "_view_module": "@jupyter-widgets/base",
            "_view_module_version": "1.2.0",
            "_view_name": "LayoutView",
            "align_content": null,
            "align_items": null,
            "align_self": null,
            "border": null,
            "bottom": null,
            "display": null,
            "flex": null,
            "flex_flow": null,
            "grid_area": null,
            "grid_auto_columns": null,
            "grid_auto_flow": null,
            "grid_auto_rows": null,
            "grid_column": null,
            "grid_gap": null,
            "grid_row": null,
            "grid_template_areas": null,
            "grid_template_columns": null,
            "grid_template_rows": null,
            "height": null,
            "justify_content": null,
            "justify_items": null,
            "left": null,
            "margin": null,
            "max_height": null,
            "max_width": null,
            "min_height": null,
            "min_width": null,
            "object_fit": null,
            "object_position": null,
            "order": null,
            "overflow": null,
            "overflow_x": null,
            "overflow_y": null,
            "padding": null,
            "right": null,
            "top": null,
            "visibility": null,
            "width": null
          }
        },
        "74df5c2758d146e69d392b1503adfd9a": {
          "model_module": "@jupyter-widgets/controls",
          "model_name": "DescriptionStyleModel",
          "model_module_version": "1.5.0",
          "state": {
            "_model_module": "@jupyter-widgets/controls",
            "_model_module_version": "1.5.0",
            "_model_name": "DescriptionStyleModel",
            "_view_count": null,
            "_view_module": "@jupyter-widgets/base",
            "_view_module_version": "1.2.0",
            "_view_name": "StyleView",
            "description_width": ""
          }
        },
        "b776cabae85b471cb968ffba037032a4": {
          "model_module": "@jupyter-widgets/controls",
          "model_name": "HBoxModel",
          "model_module_version": "1.5.0",
          "state": {
            "_dom_classes": [],
            "_model_module": "@jupyter-widgets/controls",
            "_model_module_version": "1.5.0",
            "_model_name": "HBoxModel",
            "_view_count": null,
            "_view_module": "@jupyter-widgets/controls",
            "_view_module_version": "1.5.0",
            "_view_name": "HBoxView",
            "box_style": "",
            "children": [
              "IPY_MODEL_20b914a87e2444b08f4fd40dedd9df9c",
              "IPY_MODEL_6ca6b0f18ef24003a33352db99af558b",
              "IPY_MODEL_503b25dc245542c6941cd8a409b6113e"
            ],
            "layout": "IPY_MODEL_d7291db90dcb4b8a9839de40f6a2ca29"
          }
        },
        "20b914a87e2444b08f4fd40dedd9df9c": {
          "model_module": "@jupyter-widgets/controls",
          "model_name": "HTMLModel",
          "model_module_version": "1.5.0",
          "state": {
            "_dom_classes": [],
            "_model_module": "@jupyter-widgets/controls",
            "_model_module_version": "1.5.0",
            "_model_name": "HTMLModel",
            "_view_count": null,
            "_view_module": "@jupyter-widgets/controls",
            "_view_module_version": "1.5.0",
            "_view_name": "HTMLView",
            "description": "",
            "description_tooltip": null,
            "layout": "IPY_MODEL_23b5c717909c484a8366f8a82c5d4879",
            "placeholder": "​",
            "style": "IPY_MODEL_16e1afd83c34409dacf426a74a465851",
            "value": "Generating train examples...: 100%"
          }
        },
        "6ca6b0f18ef24003a33352db99af558b": {
          "model_module": "@jupyter-widgets/controls",
          "model_name": "FloatProgressModel",
          "model_module_version": "1.5.0",
          "state": {
            "_dom_classes": [],
            "_model_module": "@jupyter-widgets/controls",
            "_model_module_version": "1.5.0",
            "_model_name": "FloatProgressModel",
            "_view_count": null,
            "_view_module": "@jupyter-widgets/controls",
            "_view_module_version": "1.5.0",
            "_view_name": "ProgressView",
            "bar_style": "",
            "description": "",
            "description_tooltip": null,
            "layout": "IPY_MODEL_8cfed2024c984993ba91afc6c343c6e4",
            "max": 2500,
            "min": 0,
            "orientation": "horizontal",
            "style": "IPY_MODEL_e5561c61e1b04dae83faa0d6bc1399c7",
            "value": 2500
          }
        },
        "503b25dc245542c6941cd8a409b6113e": {
          "model_module": "@jupyter-widgets/controls",
          "model_name": "HTMLModel",
          "model_module_version": "1.5.0",
          "state": {
            "_dom_classes": [],
            "_model_module": "@jupyter-widgets/controls",
            "_model_module_version": "1.5.0",
            "_model_name": "HTMLModel",
            "_view_count": null,
            "_view_module": "@jupyter-widgets/controls",
            "_view_module_version": "1.5.0",
            "_view_name": "HTMLView",
            "description": "",
            "description_tooltip": null,
            "layout": "IPY_MODEL_1ae64fc18eb14a3e9b1bba61c5eb1ef3",
            "placeholder": "​",
            "style": "IPY_MODEL_5fda8c78af2d4467a5c052f69994116e",
            "value": " 2499/2500 [00:10&lt;00:00, 211.71 examples/s]"
          }
        },
        "d7291db90dcb4b8a9839de40f6a2ca29": {
          "model_module": "@jupyter-widgets/base",
          "model_name": "LayoutModel",
          "model_module_version": "1.2.0",
          "state": {
            "_model_module": "@jupyter-widgets/base",
            "_model_module_version": "1.2.0",
            "_model_name": "LayoutModel",
            "_view_count": null,
            "_view_module": "@jupyter-widgets/base",
            "_view_module_version": "1.2.0",
            "_view_name": "LayoutView",
            "align_content": null,
            "align_items": null,
            "align_self": null,
            "border": null,
            "bottom": null,
            "display": null,
            "flex": null,
            "flex_flow": null,
            "grid_area": null,
            "grid_auto_columns": null,
            "grid_auto_flow": null,
            "grid_auto_rows": null,
            "grid_column": null,
            "grid_gap": null,
            "grid_row": null,
            "grid_template_areas": null,
            "grid_template_columns": null,
            "grid_template_rows": null,
            "height": null,
            "justify_content": null,
            "justify_items": null,
            "left": null,
            "margin": null,
            "max_height": null,
            "max_width": null,
            "min_height": null,
            "min_width": null,
            "object_fit": null,
            "object_position": null,
            "order": null,
            "overflow": null,
            "overflow_x": null,
            "overflow_y": null,
            "padding": null,
            "right": null,
            "top": null,
            "visibility": "hidden",
            "width": null
          }
        },
        "23b5c717909c484a8366f8a82c5d4879": {
          "model_module": "@jupyter-widgets/base",
          "model_name": "LayoutModel",
          "model_module_version": "1.2.0",
          "state": {
            "_model_module": "@jupyter-widgets/base",
            "_model_module_version": "1.2.0",
            "_model_name": "LayoutModel",
            "_view_count": null,
            "_view_module": "@jupyter-widgets/base",
            "_view_module_version": "1.2.0",
            "_view_name": "LayoutView",
            "align_content": null,
            "align_items": null,
            "align_self": null,
            "border": null,
            "bottom": null,
            "display": null,
            "flex": null,
            "flex_flow": null,
            "grid_area": null,
            "grid_auto_columns": null,
            "grid_auto_flow": null,
            "grid_auto_rows": null,
            "grid_column": null,
            "grid_gap": null,
            "grid_row": null,
            "grid_template_areas": null,
            "grid_template_columns": null,
            "grid_template_rows": null,
            "height": null,
            "justify_content": null,
            "justify_items": null,
            "left": null,
            "margin": null,
            "max_height": null,
            "max_width": null,
            "min_height": null,
            "min_width": null,
            "object_fit": null,
            "object_position": null,
            "order": null,
            "overflow": null,
            "overflow_x": null,
            "overflow_y": null,
            "padding": null,
            "right": null,
            "top": null,
            "visibility": null,
            "width": null
          }
        },
        "16e1afd83c34409dacf426a74a465851": {
          "model_module": "@jupyter-widgets/controls",
          "model_name": "DescriptionStyleModel",
          "model_module_version": "1.5.0",
          "state": {
            "_model_module": "@jupyter-widgets/controls",
            "_model_module_version": "1.5.0",
            "_model_name": "DescriptionStyleModel",
            "_view_count": null,
            "_view_module": "@jupyter-widgets/base",
            "_view_module_version": "1.2.0",
            "_view_name": "StyleView",
            "description_width": ""
          }
        },
        "8cfed2024c984993ba91afc6c343c6e4": {
          "model_module": "@jupyter-widgets/base",
          "model_name": "LayoutModel",
          "model_module_version": "1.2.0",
          "state": {
            "_model_module": "@jupyter-widgets/base",
            "_model_module_version": "1.2.0",
            "_model_name": "LayoutModel",
            "_view_count": null,
            "_view_module": "@jupyter-widgets/base",
            "_view_module_version": "1.2.0",
            "_view_name": "LayoutView",
            "align_content": null,
            "align_items": null,
            "align_self": null,
            "border": null,
            "bottom": null,
            "display": null,
            "flex": null,
            "flex_flow": null,
            "grid_area": null,
            "grid_auto_columns": null,
            "grid_auto_flow": null,
            "grid_auto_rows": null,
            "grid_column": null,
            "grid_gap": null,
            "grid_row": null,
            "grid_template_areas": null,
            "grid_template_columns": null,
            "grid_template_rows": null,
            "height": null,
            "justify_content": null,
            "justify_items": null,
            "left": null,
            "margin": null,
            "max_height": null,
            "max_width": null,
            "min_height": null,
            "min_width": null,
            "object_fit": null,
            "object_position": null,
            "order": null,
            "overflow": null,
            "overflow_x": null,
            "overflow_y": null,
            "padding": null,
            "right": null,
            "top": null,
            "visibility": null,
            "width": null
          }
        },
        "e5561c61e1b04dae83faa0d6bc1399c7": {
          "model_module": "@jupyter-widgets/controls",
          "model_name": "ProgressStyleModel",
          "model_module_version": "1.5.0",
          "state": {
            "_model_module": "@jupyter-widgets/controls",
            "_model_module_version": "1.5.0",
            "_model_name": "ProgressStyleModel",
            "_view_count": null,
            "_view_module": "@jupyter-widgets/base",
            "_view_module_version": "1.2.0",
            "_view_name": "StyleView",
            "bar_color": null,
            "description_width": ""
          }
        },
        "1ae64fc18eb14a3e9b1bba61c5eb1ef3": {
          "model_module": "@jupyter-widgets/base",
          "model_name": "LayoutModel",
          "model_module_version": "1.2.0",
          "state": {
            "_model_module": "@jupyter-widgets/base",
            "_model_module_version": "1.2.0",
            "_model_name": "LayoutModel",
            "_view_count": null,
            "_view_module": "@jupyter-widgets/base",
            "_view_module_version": "1.2.0",
            "_view_name": "LayoutView",
            "align_content": null,
            "align_items": null,
            "align_self": null,
            "border": null,
            "bottom": null,
            "display": null,
            "flex": null,
            "flex_flow": null,
            "grid_area": null,
            "grid_auto_columns": null,
            "grid_auto_flow": null,
            "grid_auto_rows": null,
            "grid_column": null,
            "grid_gap": null,
            "grid_row": null,
            "grid_template_areas": null,
            "grid_template_columns": null,
            "grid_template_rows": null,
            "height": null,
            "justify_content": null,
            "justify_items": null,
            "left": null,
            "margin": null,
            "max_height": null,
            "max_width": null,
            "min_height": null,
            "min_width": null,
            "object_fit": null,
            "object_position": null,
            "order": null,
            "overflow": null,
            "overflow_x": null,
            "overflow_y": null,
            "padding": null,
            "right": null,
            "top": null,
            "visibility": null,
            "width": null
          }
        },
        "5fda8c78af2d4467a5c052f69994116e": {
          "model_module": "@jupyter-widgets/controls",
          "model_name": "DescriptionStyleModel",
          "model_module_version": "1.5.0",
          "state": {
            "_model_module": "@jupyter-widgets/controls",
            "_model_module_version": "1.5.0",
            "_model_name": "DescriptionStyleModel",
            "_view_count": null,
            "_view_module": "@jupyter-widgets/base",
            "_view_module_version": "1.2.0",
            "_view_name": "StyleView",
            "description_width": ""
          }
        },
        "eb5afaae2e6a4f8c822274a3667ef090": {
          "model_module": "@jupyter-widgets/controls",
          "model_name": "HBoxModel",
          "model_module_version": "1.5.0",
          "state": {
            "_dom_classes": [],
            "_model_module": "@jupyter-widgets/controls",
            "_model_module_version": "1.5.0",
            "_model_name": "HBoxModel",
            "_view_count": null,
            "_view_module": "@jupyter-widgets/controls",
            "_view_module_version": "1.5.0",
            "_view_name": "HBoxView",
            "box_style": "",
            "children": [
              "IPY_MODEL_49b8acc9b6974697a9b6ee7f709137a8",
              "IPY_MODEL_a97e6dbc8d8546abb6c3c72801811e18",
              "IPY_MODEL_a86961e76d5047269255f9cd2fb68897"
            ],
            "layout": "IPY_MODEL_4369003eca3448d49eb35a71fb2044a5"
          }
        },
        "49b8acc9b6974697a9b6ee7f709137a8": {
          "model_module": "@jupyter-widgets/controls",
          "model_name": "HTMLModel",
          "model_module_version": "1.5.0",
          "state": {
            "_dom_classes": [],
            "_model_module": "@jupyter-widgets/controls",
            "_model_module_version": "1.5.0",
            "_model_name": "HTMLModel",
            "_view_count": null,
            "_view_module": "@jupyter-widgets/controls",
            "_view_module_version": "1.5.0",
            "_view_name": "HTMLView",
            "description": "",
            "description_tooltip": null,
            "layout": "IPY_MODEL_8f443f7d3b9948338d30dc0bf0a959a9",
            "placeholder": "​",
            "style": "IPY_MODEL_17c1c25b3af94f14a57e98e677f9f3d4",
            "value": "Shuffling ~/tensorflow_datasets/spoken_digit/1.0.9.incompleteEZV5QD/spoken_digit-train.tfrecord*...:  55%"
          }
        },
        "a97e6dbc8d8546abb6c3c72801811e18": {
          "model_module": "@jupyter-widgets/controls",
          "model_name": "FloatProgressModel",
          "model_module_version": "1.5.0",
          "state": {
            "_dom_classes": [],
            "_model_module": "@jupyter-widgets/controls",
            "_model_module_version": "1.5.0",
            "_model_name": "FloatProgressModel",
            "_view_count": null,
            "_view_module": "@jupyter-widgets/controls",
            "_view_module_version": "1.5.0",
            "_view_name": "ProgressView",
            "bar_style": "",
            "description": "",
            "description_tooltip": null,
            "layout": "IPY_MODEL_68870549356744c6af2ddd541c53e413",
            "max": 2500,
            "min": 0,
            "orientation": "horizontal",
            "style": "IPY_MODEL_52ac56cc6f2a416fa1f5205335fe7200",
            "value": 2500
          }
        },
        "a86961e76d5047269255f9cd2fb68897": {
          "model_module": "@jupyter-widgets/controls",
          "model_name": "HTMLModel",
          "model_module_version": "1.5.0",
          "state": {
            "_dom_classes": [],
            "_model_module": "@jupyter-widgets/controls",
            "_model_module_version": "1.5.0",
            "_model_name": "HTMLModel",
            "_view_count": null,
            "_view_module": "@jupyter-widgets/controls",
            "_view_module_version": "1.5.0",
            "_view_name": "HTMLView",
            "description": "",
            "description_tooltip": null,
            "layout": "IPY_MODEL_072234a526164ee4bf3dd0c5d36d95d7",
            "placeholder": "​",
            "style": "IPY_MODEL_a655ea09b84d4e9c97c21e64812b6b02",
            "value": " 1373/2500 [00:00&lt;00:00, 6543.97 examples/s]"
          }
        },
        "4369003eca3448d49eb35a71fb2044a5": {
          "model_module": "@jupyter-widgets/base",
          "model_name": "LayoutModel",
          "model_module_version": "1.2.0",
          "state": {
            "_model_module": "@jupyter-widgets/base",
            "_model_module_version": "1.2.0",
            "_model_name": "LayoutModel",
            "_view_count": null,
            "_view_module": "@jupyter-widgets/base",
            "_view_module_version": "1.2.0",
            "_view_name": "LayoutView",
            "align_content": null,
            "align_items": null,
            "align_self": null,
            "border": null,
            "bottom": null,
            "display": null,
            "flex": null,
            "flex_flow": null,
            "grid_area": null,
            "grid_auto_columns": null,
            "grid_auto_flow": null,
            "grid_auto_rows": null,
            "grid_column": null,
            "grid_gap": null,
            "grid_row": null,
            "grid_template_areas": null,
            "grid_template_columns": null,
            "grid_template_rows": null,
            "height": null,
            "justify_content": null,
            "justify_items": null,
            "left": null,
            "margin": null,
            "max_height": null,
            "max_width": null,
            "min_height": null,
            "min_width": null,
            "object_fit": null,
            "object_position": null,
            "order": null,
            "overflow": null,
            "overflow_x": null,
            "overflow_y": null,
            "padding": null,
            "right": null,
            "top": null,
            "visibility": "hidden",
            "width": null
          }
        },
        "8f443f7d3b9948338d30dc0bf0a959a9": {
          "model_module": "@jupyter-widgets/base",
          "model_name": "LayoutModel",
          "model_module_version": "1.2.0",
          "state": {
            "_model_module": "@jupyter-widgets/base",
            "_model_module_version": "1.2.0",
            "_model_name": "LayoutModel",
            "_view_count": null,
            "_view_module": "@jupyter-widgets/base",
            "_view_module_version": "1.2.0",
            "_view_name": "LayoutView",
            "align_content": null,
            "align_items": null,
            "align_self": null,
            "border": null,
            "bottom": null,
            "display": null,
            "flex": null,
            "flex_flow": null,
            "grid_area": null,
            "grid_auto_columns": null,
            "grid_auto_flow": null,
            "grid_auto_rows": null,
            "grid_column": null,
            "grid_gap": null,
            "grid_row": null,
            "grid_template_areas": null,
            "grid_template_columns": null,
            "grid_template_rows": null,
            "height": null,
            "justify_content": null,
            "justify_items": null,
            "left": null,
            "margin": null,
            "max_height": null,
            "max_width": null,
            "min_height": null,
            "min_width": null,
            "object_fit": null,
            "object_position": null,
            "order": null,
            "overflow": null,
            "overflow_x": null,
            "overflow_y": null,
            "padding": null,
            "right": null,
            "top": null,
            "visibility": null,
            "width": null
          }
        },
        "17c1c25b3af94f14a57e98e677f9f3d4": {
          "model_module": "@jupyter-widgets/controls",
          "model_name": "DescriptionStyleModel",
          "model_module_version": "1.5.0",
          "state": {
            "_model_module": "@jupyter-widgets/controls",
            "_model_module_version": "1.5.0",
            "_model_name": "DescriptionStyleModel",
            "_view_count": null,
            "_view_module": "@jupyter-widgets/base",
            "_view_module_version": "1.2.0",
            "_view_name": "StyleView",
            "description_width": ""
          }
        },
        "68870549356744c6af2ddd541c53e413": {
          "model_module": "@jupyter-widgets/base",
          "model_name": "LayoutModel",
          "model_module_version": "1.2.0",
          "state": {
            "_model_module": "@jupyter-widgets/base",
            "_model_module_version": "1.2.0",
            "_model_name": "LayoutModel",
            "_view_count": null,
            "_view_module": "@jupyter-widgets/base",
            "_view_module_version": "1.2.0",
            "_view_name": "LayoutView",
            "align_content": null,
            "align_items": null,
            "align_self": null,
            "border": null,
            "bottom": null,
            "display": null,
            "flex": null,
            "flex_flow": null,
            "grid_area": null,
            "grid_auto_columns": null,
            "grid_auto_flow": null,
            "grid_auto_rows": null,
            "grid_column": null,
            "grid_gap": null,
            "grid_row": null,
            "grid_template_areas": null,
            "grid_template_columns": null,
            "grid_template_rows": null,
            "height": null,
            "justify_content": null,
            "justify_items": null,
            "left": null,
            "margin": null,
            "max_height": null,
            "max_width": null,
            "min_height": null,
            "min_width": null,
            "object_fit": null,
            "object_position": null,
            "order": null,
            "overflow": null,
            "overflow_x": null,
            "overflow_y": null,
            "padding": null,
            "right": null,
            "top": null,
            "visibility": null,
            "width": null
          }
        },
        "52ac56cc6f2a416fa1f5205335fe7200": {
          "model_module": "@jupyter-widgets/controls",
          "model_name": "ProgressStyleModel",
          "model_module_version": "1.5.0",
          "state": {
            "_model_module": "@jupyter-widgets/controls",
            "_model_module_version": "1.5.0",
            "_model_name": "ProgressStyleModel",
            "_view_count": null,
            "_view_module": "@jupyter-widgets/base",
            "_view_module_version": "1.2.0",
            "_view_name": "StyleView",
            "bar_color": null,
            "description_width": ""
          }
        },
        "072234a526164ee4bf3dd0c5d36d95d7": {
          "model_module": "@jupyter-widgets/base",
          "model_name": "LayoutModel",
          "model_module_version": "1.2.0",
          "state": {
            "_model_module": "@jupyter-widgets/base",
            "_model_module_version": "1.2.0",
            "_model_name": "LayoutModel",
            "_view_count": null,
            "_view_module": "@jupyter-widgets/base",
            "_view_module_version": "1.2.0",
            "_view_name": "LayoutView",
            "align_content": null,
            "align_items": null,
            "align_self": null,
            "border": null,
            "bottom": null,
            "display": null,
            "flex": null,
            "flex_flow": null,
            "grid_area": null,
            "grid_auto_columns": null,
            "grid_auto_flow": null,
            "grid_auto_rows": null,
            "grid_column": null,
            "grid_gap": null,
            "grid_row": null,
            "grid_template_areas": null,
            "grid_template_columns": null,
            "grid_template_rows": null,
            "height": null,
            "justify_content": null,
            "justify_items": null,
            "left": null,
            "margin": null,
            "max_height": null,
            "max_width": null,
            "min_height": null,
            "min_width": null,
            "object_fit": null,
            "object_position": null,
            "order": null,
            "overflow": null,
            "overflow_x": null,
            "overflow_y": null,
            "padding": null,
            "right": null,
            "top": null,
            "visibility": null,
            "width": null
          }
        },
        "a655ea09b84d4e9c97c21e64812b6b02": {
          "model_module": "@jupyter-widgets/controls",
          "model_name": "DescriptionStyleModel",
          "model_module_version": "1.5.0",
          "state": {
            "_model_module": "@jupyter-widgets/controls",
            "_model_module_version": "1.5.0",
            "_model_name": "DescriptionStyleModel",
            "_view_count": null,
            "_view_module": "@jupyter-widgets/base",
            "_view_module_version": "1.2.0",
            "_view_name": "StyleView",
            "description_width": ""
          }
        }
      }
    }
  },
  "cells": [
    {
      "cell_type": "markdown",
      "metadata": {
        "id": "view-in-github",
        "colab_type": "text"
      },
      "source": [
        "<a href=\"https://colab.research.google.com/github/Elman295/spoken-digit-classification/blob/main/audio__Digit.ipynb\" target=\"_parent\"><img src=\"https://colab.research.google.com/assets/colab-badge.svg\" alt=\"Open In Colab\"/></a>"
      ]
    },
    {
      "cell_type": "markdown",
      "source": [
        "#`Spoken Digit classification`"
      ],
      "metadata": {
        "id": "5P0qPq8qc4Bf"
      }
    },
    {
      "cell_type": "code",
      "execution_count": null,
      "metadata": {
        "id": "tAYnO3ppPB4f"
      },
      "outputs": [],
      "source": [
        "import tensorflow as tf\n",
        "import tensorflow_datasets as tfds\n",
        "import matplotlib.pyplot as plt\n",
        "from IPython.display import Audio\n",
        "from IPython.core.display import display\n",
        "%matplotlib inline"
      ]
    },
    {
      "cell_type": "code",
      "source": [
        "!pip install pydub"
      ],
      "metadata": {
        "colab": {
          "base_uri": "https://localhost:8080/"
        },
        "id": "bPe8hhGLQCIu",
        "outputId": "a5b742c6-07c4-446c-9adb-0a32c073eded"
      },
      "execution_count": null,
      "outputs": [
        {
          "output_type": "stream",
          "name": "stdout",
          "text": [
            "Looking in indexes: https://pypi.org/simple, https://us-python.pkg.dev/colab-wheels/public/simple/\n",
            "Collecting pydub\n",
            "  Downloading pydub-0.25.1-py2.py3-none-any.whl (32 kB)\n",
            "Installing collected packages: pydub\n",
            "Successfully installed pydub-0.25.1\n"
          ]
        }
      ]
    },
    {
      "cell_type": "code",
      "source": [
        "x_train,y_train = tfds.load(\"spoken_digit\", split = \"train[:80%]\", batch_size = -1, as_supervised = True)\n",
        "x_test, y_test = tfds.load(\"spoken_digit\", split = \"train[80%:85%]\", batch_size = -1, as_supervised = True)\n",
        "x_val, y_val = tfds.load(\"spoken_digit\", split = \"train[85%:]\", batch_size = -1, as_supervised = True)"
      ],
      "metadata": {
        "id": "tntsfiBGPiMD",
        "colab": {
          "base_uri": "https://localhost:8080/",
          "height": 148,
          "referenced_widgets": [
            "92a77ca6dd904e6ca8811805ae75f8bf",
            "69e0a531021c40aeb21d7cb3b0cc56fc",
            "fabf7ee278a743309648024e83d4fc0f",
            "45f01d08a2c743cc8e3174b32a1b551b",
            "207924d1c20d4bc3bfee1137cbbe130c",
            "6181b5985b454b58b8a8bdfcd67a1156",
            "0ecc54e245bc4b0aa32c819c5b53b411",
            "ecdedce2db034416af3fd727d480ebac",
            "0eaba953a9574034945025e4c9cca1f2",
            "7726d3e3e9c045c8816e4b99914a078f",
            "f64ebdf3464e4e4ab35ee3efe3009322",
            "38c0468c77ad4bcfa819c7fa7a18aadd",
            "dce71f1aa23543b285df8ae8a9376b2f",
            "d24070c9ae98423e885b56944c68da09",
            "d0bce2fb376d4f508e4861ae33683efb",
            "f549e7c4aa16442594145606ecff3ef2",
            "323d6b8f844b4b4fb5bae6499523c981",
            "7e480fc5020a4ecc8b5646aa8478b790",
            "f8fbbb9656964b61b959b823a92d8c84",
            "e0a49656191043a2bbc61cff0fe7326c",
            "667adf3598814109b956faf360e6aea8",
            "afc5a270592346518bd44398e3aefc09",
            "72e5299e50c449c0a82553ddd0ce4b38",
            "9cce909e6a354d9bb4aca44eeb6394a1",
            "3faa6dcbb5aa402582ef9756d0dcf67b",
            "7eaf24ff27eb4113a2444e41ab1bef83",
            "6aab3c1b76484d9486b66a7a63586110",
            "56c9799d3a234a338c8d83e26d166052",
            "8cf10541a50b46e9ab7adae0d6ccc998",
            "0166abcbbeb64c8bb8df2b848ed3475b",
            "2dac3d4db9064682918667f325fc1cff",
            "2b209f118c674e728c5bbf1ba8fe96eb",
            "5353fe543eab41e4a6f3f11a78d12248",
            "006184a3a2d6451bb383f4ee39567ca7",
            "711afa5b9e874c539ed4d67c25a4fa7c",
            "c544a767c7eb46ef88a9b76a756c3cfb",
            "89edc7c44f5342d48b0c3ec168b78ddc",
            "b14b8a703ef64b9fb708b3ab6f9ec86d",
            "d95a32fb0fd14d989d35461d8270892f",
            "caf5beebfe904c4787f98290b3359173",
            "8968bdf24da748d2a2bd2774ea5e865a",
            "7453389151784e4a8d31b3394a3f4648",
            "fbb7c7b1036d4d99822d82e332b863c2",
            "74df5c2758d146e69d392b1503adfd9a",
            "b776cabae85b471cb968ffba037032a4",
            "20b914a87e2444b08f4fd40dedd9df9c",
            "6ca6b0f18ef24003a33352db99af558b",
            "503b25dc245542c6941cd8a409b6113e",
            "d7291db90dcb4b8a9839de40f6a2ca29",
            "23b5c717909c484a8366f8a82c5d4879",
            "16e1afd83c34409dacf426a74a465851",
            "8cfed2024c984993ba91afc6c343c6e4",
            "e5561c61e1b04dae83faa0d6bc1399c7",
            "1ae64fc18eb14a3e9b1bba61c5eb1ef3",
            "5fda8c78af2d4467a5c052f69994116e",
            "eb5afaae2e6a4f8c822274a3667ef090",
            "49b8acc9b6974697a9b6ee7f709137a8",
            "a97e6dbc8d8546abb6c3c72801811e18",
            "a86961e76d5047269255f9cd2fb68897",
            "4369003eca3448d49eb35a71fb2044a5",
            "8f443f7d3b9948338d30dc0bf0a959a9",
            "17c1c25b3af94f14a57e98e677f9f3d4",
            "68870549356744c6af2ddd541c53e413",
            "52ac56cc6f2a416fa1f5205335fe7200",
            "072234a526164ee4bf3dd0c5d36d95d7",
            "a655ea09b84d4e9c97c21e64812b6b02"
          ]
        },
        "outputId": "441d2f80-07bb-497a-9255-e05df85fea12"
      },
      "execution_count": null,
      "outputs": [
        {
          "output_type": "stream",
          "name": "stdout",
          "text": [
            "\u001b[1mDownloading and preparing dataset 11.42 MiB (download: 11.42 MiB, generated: 45.68 MiB, total: 57.10 MiB) to ~/tensorflow_datasets/spoken_digit/1.0.9...\u001b[0m\n"
          ]
        },
        {
          "output_type": "display_data",
          "data": {
            "text/plain": [
              "Dl Completed...: 0 url [00:00, ? url/s]"
            ],
            "application/vnd.jupyter.widget-view+json": {
              "version_major": 2,
              "version_minor": 0,
              "model_id": "92a77ca6dd904e6ca8811805ae75f8bf"
            }
          },
          "metadata": {}
        },
        {
          "output_type": "display_data",
          "data": {
            "text/plain": [
              "Dl Size...: 0 MiB [00:00, ? MiB/s]"
            ],
            "application/vnd.jupyter.widget-view+json": {
              "version_major": 2,
              "version_minor": 0,
              "model_id": "38c0468c77ad4bcfa819c7fa7a18aadd"
            }
          },
          "metadata": {}
        },
        {
          "output_type": "display_data",
          "data": {
            "text/plain": [
              "Extraction completed...: 0 file [00:00, ? file/s]"
            ],
            "application/vnd.jupyter.widget-view+json": {
              "version_major": 2,
              "version_minor": 0,
              "model_id": "72e5299e50c449c0a82553ddd0ce4b38"
            }
          },
          "metadata": {}
        },
        {
          "output_type": "display_data",
          "data": {
            "text/plain": [
              "Generating splits...:   0%|          | 0/1 [00:00<?, ? splits/s]"
            ],
            "application/vnd.jupyter.widget-view+json": {
              "version_major": 2,
              "version_minor": 0,
              "model_id": "006184a3a2d6451bb383f4ee39567ca7"
            }
          },
          "metadata": {}
        },
        {
          "output_type": "display_data",
          "data": {
            "text/plain": [
              "Generating train examples...:   0%|          | 0/2500 [00:00<?, ? examples/s]"
            ],
            "application/vnd.jupyter.widget-view+json": {
              "version_major": 2,
              "version_minor": 0,
              "model_id": "b776cabae85b471cb968ffba037032a4"
            }
          },
          "metadata": {}
        },
        {
          "output_type": "display_data",
          "data": {
            "text/plain": [
              "Shuffling ~/tensorflow_datasets/spoken_digit/1.0.9.incompleteEZV5QD/spoken_digit-train.tfrecord*...:   0%|    …"
            ],
            "application/vnd.jupyter.widget-view+json": {
              "version_major": 2,
              "version_minor": 0,
              "model_id": "eb5afaae2e6a4f8c822274a3667ef090"
            }
          },
          "metadata": {}
        },
        {
          "output_type": "stream",
          "name": "stdout",
          "text": [
            "\u001b[1mDataset spoken_digit downloaded and prepared to ~/tensorflow_datasets/spoken_digit/1.0.9. Subsequent calls will reuse this data.\u001b[0m\n"
          ]
        }
      ]
    },
    {
      "cell_type": "code",
      "source": [
        "print(x_train.shape)\n",
        "print(y_train.shape)\n",
        "print(x_test.shape)\n",
        "print(y_test.shape)\n",
        "print(x_val.shape)\n",
        "print(y_val.shape)"
      ],
      "metadata": {
        "colab": {
          "base_uri": "https://localhost:8080/"
        },
        "id": "jMkOBicJQBDh",
        "outputId": "84c91a7b-c750-4a70-b002-e15e7f40ba52"
      },
      "execution_count": null,
      "outputs": [
        {
          "output_type": "stream",
          "name": "stdout",
          "text": [
            "(2000, 8281)\n",
            "(2000,)\n",
            "(125, 18262)\n",
            "(125,)\n",
            "(375, 6370)\n",
            "(375,)\n"
          ]
        }
      ]
    },
    {
      "cell_type": "code",
      "source": [
        "plt.figure(figsize = (10,10))\n",
        "for i in range(9):\n",
        "  plt.subplot(3,3,i+1)\n",
        "  plt.plot(x_train[i])\n",
        "plt.show()"
      ],
      "metadata": {
        "colab": {
          "base_uri": "https://localhost:8080/",
          "height": 592
        },
        "id": "cZzMlndvQUCd",
        "outputId": "1adce81d-c2f7-4817-d50e-9b5514fc0c51"
      },
      "execution_count": null,
      "outputs": [
        {
          "output_type": "display_data",
          "data": {
            "text/plain": [
              "<Figure size 720x720 with 9 Axes>"
            ],
            "image/png": "[encoded data removed]"
          },
          "metadata": {
            "needs_background": "light"
          }
        }
      ]
    },
    {
      "cell_type": "code",
      "source": [
        "def get_spectrogram(audio):\n",
        "  audio = tf.cast(audio, tf.float32)\n",
        "  spectrogram = tf.signal.stft(\n",
        "      signals = audio,\n",
        "      frame_length = 255,\n",
        "      frame_step = 128\n",
        "  )\n",
        "  spectrogram = tf.abs(spectrogram)\n",
        "  spectrogram = spectrogram[...,tf.newaxis]\n",
        "  return spectrogram"
      ],
      "metadata": {
        "id": "4s6AQnQXQrpm"
      },
      "execution_count": null,
      "outputs": []
    },
    {
      "cell_type": "code",
      "source": [
        "for i in range(9):\n",
        "  print(x_train[i].shape)\n",
        "  spectrogram = get_spectrogram(x_train[i])\n",
        "  print(spectrogram.shape)\n",
        "  display(Audio(x_train[i], rate = 8000))\n",
        "  print(\"--------------------------------------------------\")"
      ],
      "metadata": {
        "colab": {
          "base_uri": "https://localhost:8080/",
          "height": 1000
        },
        "id": "wJSfXrabRV95",
        "outputId": "1e00a409-f173-4689-ba60-02fed726e74a"
      },
      "execution_count": null,
      "outputs": [
        {
          "output_type": "stream",
          "name": "stdout",
          "text": [
            "(8281,)\n",
            "(63, 129, 1)\n"
          ]
        },
        {
          "output_type": "display_data",
          "data": {
            "text/plain": [
              "<IPython.lib.display.Audio object>"
            ],
            "text/html": [
              "\n",
              "                <audio  controls=\"controls\" >\n",
              "                    <source src=\"data:audio/wav;base64,UklGRtZAAABXQVZFZm10IBAAAAABAAEAQB8AAIA+AAACABAAZGF0YbJAAAAAAAAAVvUAAFb1AABW9QAAAAAAAAAAAAAAAAAAAABW9Vb1VvVW9Vb1VvUB4Kvqq+qr6qvqAeBW9avqVvVW9QAAVvUAAAAAVvUAAKoKAACqCgAAqgqqCqoKqgqqCqoKVRWqClUVqgpVFQAAqgpW9Vb1VvUB4AHgrMpW1QHArMoBwKzKrMpW1VbVAeCr6lb1q+oAAFb1AABW9QAAVvVW9avqVvWr6lb1VvUAAFb1qgqqClUV/x+qKqoqqipUNaoqVDX/H6oqVRVVFVb1VvVW1VbVAcABwFa1AaCsqla1rKoBwKzKAeCr6gAAAABVFVUV/x//H1UVqgpW9Vb1AeAB4KzKVtUBwFbVVtVW1Vb1VvVVFVUVqipUNf8//z+qSlRV/z+qSlQ1VDWqKv8fAABW9QHgrMpWtQGgAaBXlVeVV5Wsqla1rMoB4KvqAABVFf8fqiqqKqoqqipVFaoKVvWr6lbVrMqsyla1AcABwKzKAeCr6lb1VRVVFVQ1VDWqSlRVVFVUVVRVqkqqSv8/qir/HwAAVvWsygHAAaABoKyKV5WsiqyKAaABoAHAVtUB4AAAqgr/H6oq/z9UNf8/qir/H6oKVvWr6lbVAcABwKyqVrWsqgHAAcAB4Fb1AABVFf8f/z//P1RVVFX/X/9fVFVUVapKVDVUNVUVAACr6gHAVrUBoFeVAYCsigGAV5UBoAGgrMpW1Vb1AAD/H/8f/z9UNapKVDVUNf8fAABW9VbVVtUBwKyqrKqsqgGgVrUBwKzKq+pW9QAA/x+qKqpKVFVUVf9f/1//X1RV/1+qSlQ1qiqqClb1VtUBwAGgV5VXlQGAAYCsiqyKAaCsqqzKVtVW9aoK/x+qKv8/VDX/P1Q1qir/H6oKq+oB4AHAAcCsqqyqAaBWtVa1rMpW1avqVvWqCqoqVDWqSqpK/1+paqlq/1//X6pKqkr/P6oqVRVW9azKAcABoAGgV5UBgAGAAYCsigGgrKqsylbVAACqCv8fqir/P6pKVDX/P1Q1VRWqCqvqAeCsyla1VrUBoKyqrKoBwAHAVtWr6lb1VRX/H/8//z9UVf9fVFX/X1RV/1+qSqpKVDWqKqoKVvUB4KzKVrVXlVeVAYCsiqyKV5UBoFa1AcAB4Fb1AABVFf8fVDX/P1Q1/z//H/8fAABW9VbVVtWsyla1VrVWtayqAcCsyqzKq+qr6qoKVRVUNf8/qkpUVVRV/19UVVRVqkqqSlQ1VDVVFaoKq+pW1QHArKoBoAGgrIpXlayKAaCsqqyqrMpW1Vb1AABVFf8f/x9UNVQ1qiqqKqoKqgqr6qvqrMqsyqzKVrUBwAHAVrWsyqzKq+pW9QAAVRX/H1Q1VDWqSv8/VFX/P6pK/z+qSlQ1VDX/H1UVVvWr6lbVAcABwFa1rKpXlQGgV5VXlayqVrWsygHgVvUAAFUV/x+qKqoqqir/H/8fVRUAAAAAAeAB4FbVrMqsygHAAcCsygHAVtVW1Vb1AACqCv8f/x9UNVQ1qkr/P6pKqkqqSv8//z+qKqoqVRWqCgAAAeAB4AHAAcCsqqyqrKoBoAGgAaBWtVa1rMoB4KvqAAAAAFUVVRWqKv8fqipVFf8fqgqqClb1q+oB4FbVVtVW1azKAcCsyqzKAeCr6lb1AACqCv8f/x+qKqoq/z//P1Q1qkr/P/8//z+qKlQ1/x9VFVb1q+pW1azKVrWsqqyqV5UBoFeVAaABoAHAAcAB4KvqAACqClUVqir/H1Q1qiqqKv8f/x9VFQAAVvWr6lbVrMoBwAHAVrUBwFa1rMqsygHgq+pW9VUV/x9UNVQ1VDWqSv8/VFVUVf8/qkpUNVQ1/x9VFVb1VvUB4KzKAcABoAGgAaABoAGgAaBWtQHAVtUB4Fb1qgqqCv8fqir/H1Q1qiqqKqoqVRVVFVb1VvVW1VbVAcABwFa1AcBWtQHArMpW1QHgq+pW9VUVVRWqKqoq/z9UNapKqkr/P6pKVDX/P1Q1qiqqKqoKqgpW9VbVrMpWtVa1rKoBoKyqAaCsqla1VrVW1VbVVvUAAFUVVRX/H/8fqir/H6oqVRVVFQAAAACr6gHgVtWsygHAAcABwAHAAcCsylbVAeCr6gAAVRVVFVQ1VDX/P/8/qkr/P6pKVDX/P6oqVDX/H/8fVRUAAAAAq+pW1VbVAcABwKyqVrWsqla1VrUBwAHAAeCr6qvqAAAAAFUVqgpVFaoKVRVVFQAAAABW9Vb1q+pW1VbVAcCsygHArMoBwFbVVtWr6lb1VvWqClUVqiqqKv8/VDX/P1Q1VDWqKqoqqipVFf8fqgpVFQAAqgoAAFb1VvUB4AHgVtWsyqzKAcCsyqzKAcCsyqzKAeAB4AHgVvWr6gAAAABW9QAAVvUAAFb1VvWr6lb1q+oB4AHgAeBW1QHgVtUB4AHgq+qr6gAAAAAAAFUV/x//H6oq/x+qKqoqqir/H/8f/x+qClUVAACqCqoKAACqCqoKAAAAAKvqVvUB4AHgVtVW1VbVrMpW1azKVtWsylbVVtUB4FbVq+qr6qvqq+pW9avqAAAAAFb1AAAAAFb1VvWr6lb1VvWr6lb1q+pW9avqAABW9QAAAABVFaoK/x//H/8f/x9VFVUVqgpVFaoKqgoAAKoKAACqCgAAqgpVFQAAqgpW9Vb1q+qr6lbVAeCsyqzKAcABwAHAVrWsygHAVtWsygHgAeBW9avqAABW9aoKqgqqClUVqgqqCgAAAABW9Vb1q+pW9Vb1VvVW9Vb1VvVW9QAAqgoAAFUVqgr/H/8fqgpVFaoKVRWqClUVqgqqCgAAqgoAAKoKqgoAAKoKAAAAAFb1q+qr6lbVVtVW1azKrMoBwKzKAcCsyqzKrMoB4AHgVvVW9Vb1AAAAAKoKVRVVFaoKqgoAAAAAVvVW9avqVvVW9avqVvWr6lb1q+pW9QAAAAAAAFUVqgpVFaoKVRWqClUVVRUAAKoKAAAAAFb1AAAAAAAAVvUAAFb1AABW9QAAVvVW9avqq+pW1QHgVtWsylbVAcCsygHAVtVW1QHgVtWr6qvqAABW9aoKqgoAAFUVqgqqCgAAqgpW9QAAq+pW9avqVvWr6lb1VvWr6gAAAAAAAKoKAACqClUVVRUAAKoKAACqCgAAAAAAAFb1AAAAAFb1AABW9QAAAABW9QAAVvUAAFb1q+qr6gHgAeBW1VbVrMqsylbVrMpW1QHgAeCr6qvqq+oAAFb1qgoAAKoKAACqCqoKAAAAAAAAVvVW9avqq+oB4Kvqq+pW9avqAAAAAAAAqgoAAFUVVRWqClUVqgqqCqoKAACqClb1AABW9QAAAABW9QAAVvUAAAAAVvUAAAAAVvVW9avqq+oB4KvqVtUB4FbVAeBW1QHgVtUB4KvqAeBW9Vb1AAAAAKoKAACqClb1AABW9Vb1q+pW9avqq+qr6qvqAeBW9avqAABW9QAAAACqCgAAVRWqClUVqgpVFQAAqgoAAKoKAAAAAFb1AABW9QAAAABW9QAAVvUAAFb1AAAAAFb1VvWr6lb1AeCr6qvqAeBW1QHgVtUB4FbVq+qr6qvqVvVW9avqAABW9QAAAABW9QAAVvWr6lb1q+pW9avqVvVW9avqAAAAAFb1qgoAAKoKAABVFaoKVRVVFQAAqgqqCqoKAABW9QAAVvUAAAAAq+pW9avqVvWr6lb1q+pW9Vb1VvVW9avqVvVW9QHgq+oB4KvqAeCr6qvqq+qr6qvqq+qr6lb1VvVW9avqVvWr6lb1q+pW9avqVvWr6lb1VvUAAFb1AABW9QAAAACqCgAAqgoAAKoKAACqCgAAqgqqCgAAAABW9QAAAAAAAFb1VvWr6lb1VvWr6lb1q+pW9avqVvVW9Vb1q+pW9avqVvWr6lb1q+qr6gHgq+qr6gHgq+oB4Kvqq+oB4Fb1q+pW9avqVvVW9Vb1AABW9QAAVvUAAAAAVvUAAFb1AACqCgAAqgoAAKoKqgoAAKoKAACqCgAAqgoAAFb1AABW9QAAVvWr6lb1VvWr6lb1q+pW9Vb1q+pW9Vb1q+pW9avqVvVW9avqVvVW9avqVvWr6qvqq+oB4KvqAeBW9avqVvWr6gAAAAAAAAAAAAAAAAAAAAAAAAAAAAAAAAAAAAAAAAAAAAAAAAAAAAAAAAAAAAAAAAAAAAAAAAAAAAAAAAAAAAAAAAAAAAAAAAAAAAAAAAAAAAAAAAAAAAAAAAAAAAAAAAAAAAAAAAAAAAAAAAAAAAAAAAAAAAAAAAAAAAAAAAAAAAAAAAAAAAAAAAAAAAAAAAAAAAAAAAAAAAAAAAAAAAAAAAAAAAAAAAAAAAAAAAAAAAAAAAAAAAAAAAAAAAAAAAAAAAAAAAAAAAAAAAAAAAAAAAAAAAAAAAAAAAAAAAAAAAAAAAAAAAAAAAAAAAAAAAAAAAAAAAAAAAAAAAAAAAAAAAAAAAAAAAAAAAAAAAAAAAAAAAAAAAAAAAAAAAAAAAAAAAAAAAAAAAAAAAAAAAAAAAAAAAAAAAAAAAAAAAAAAAAAAAAAAAAAAAAAAAAAAAAAAAAAAAAAAAAAAAAAAAAAAAAAAAAAAAAAAAAAAAAAAAAAAAAAAAAAAAAAAAAAAAAAAAAAAAAAAAAAAAAAAAAAAAAAAAAAAAAAAAAAAAAAAAAAAAAAAAAAAAAAAAAAAAAAAAAAAAAAAAAAAAAAAAAAAAAAAAAAAAAAAAAAAAAAAAAAAAAAAAAAAAAAAAAAAAAAAAAAAAAAAAAAAAAAAAAAAAAAAAAAAAAAAAAAAAAAAAAAAAAAAAAAAAAAAAAAAAAAAAAAAAAAAAAAAAAAAAAAAAAAAAAAAAAAAAAAAAAAAAAAAAAAAAAAAAAAAAAAAAAAAAAAAAAAAAAAAAAAAAAAAAAAAAAAAAAAAAAAAAAAAAAAAAAAAAAAAAAAAAAAAAAAAAAAAAAAAAAAAAAAAAAAAAAAAAAAAAAAAAAAAAAAAAAAAAAAAAAAAAAAAAAAAAAAAAAAAAAAAAAAAAAAAAAAAAAAAAAAAAAAAAAAAAAAAAAAAAAAAAAAAAAAAAAAAAAAAAAAAAAAAAAAAAAAAAAAAAAAAAAAAAAAAAAAAAAAAAAAAAAAAAAAAAAAAAAAAAAAAAAAAAAAAAAAAAAAAAAAAAAAAAAAAAAAAAAAAAAAAAAAAAAAAAAAAAAAAAAAAAAAAAAAAAAAAAAAAAAAAAAAAAAAAAAAAAAAAAAAAAAAAAAAAAAAAAAAAAAAAAAAAAAAAAAAAAAAAAAAAAAAAAAAAAAAAAAAAAAAAAAAAAAAAAAAAAAAAAAAAAAAAAAAAAAAAAAAAAAAAAAAAAAAAAAAAAAAAAAAAAAAAAAAAAAAAAAAAAAAAAAAAAAAAAAAAAAAAAAAAAAAAAAAAAAAAAAAAAAAAAAAAAAAAAAAAAAAAAAAAAAAAAAAAAAAAAAAAAAAAAAAAAAAAAAAAAAAAAAAAAAAAAAAAAAAAAAAAAAAAAAAAAAAAAAAAAAAAAAAAAAAAAAAAAAAAAAAAAAAAAAAAAAAAAAAAAAAAAAAAAAAAAAAAAAAAAAAAAAAAAAAAAAAAAAAAAAAAAAAAAAAAAAAAAAAAAAAAAAAAAAAAAAAAAAAAAAAAAAAAAAAAAAAAAAAAAAAAAAAAAAAAAAAAAAAAAAAAAAAAAAAAAAAAAAAAAAAAAAAAAAAAAAAAAAAAAAAAAAAAAAAAAAAAAAAAAAAAAAAAAAAAAAAAAAAAAAAAAAAAAAAAAAAAAAAAAAAAAAAAAAAAAAAAAAAAAAAAAAAAAAAAAAAAAAAAAAAAAAAAAAAAAAAAAAAAAAAAAAAAAAAAAAAAAAAAAAAAAAAAAAAAAAAAAAAAAAAAAAAAAAAAAAAAAAAAAAAAAAAAAAAAAAAAAAAAAAAAAAAAAAAAAAAAAAAAAAAAAAAAAAAAAAAAAAAAAAAAAAAAAAAAAAAAAAAAAAAAAAAAAAAAAAAAAAAAAAAAAAAAAAAAAAAAAAAAAAAAAAAAAAAAAAAAAAAAAAAAAAAAAAAAAAAAAAAAAAAAAAAAAAAAAAAAAAAAAAAAAAAAAAAAAAAAAAAAAAAAAAAAAAAAAAAAAAAAAAAAAAAAAAAAAAAAAAAAAAAAAAAAAAAAAAAAAAAAAAAAAAAAAAAAAAAAAAAAAAAAAAAAAAAAAAAAAAAAAAAAAAAAAAAAAAAAAAAAAAAAAAAAAAAAAAAAAAAAAAAAAAAAAAAAAAAAAAAAAAAAAAAAAAAAAAAAAAAAAAAAAAAAAAAAAAAAAAAAAAAAAAAAAAAAAAAAAAAAAAAAAAAAAAAAAAAAAAAAAAAAAAAAAAAAAAAAAAAAAAAAAAAAAAAAAAAAAAAAAAAAAAAAAAAAAAAAAAAAAAAAAAAAAAAAAAAAAAAAAAAAAAAAAAAAAAAAAAAAAAAAAAAAAAAAAAAAAAAAAAAAAAAAAAAAAAAAAAAAAAAAAAAAAAAAAAAAAAAAAAAAAAAAAAAAAAAAAAAAAAAAAAAAAAAAAAAAAAAAAAAAAAAAAAAAAAAAAAAAAAAAAAAAAAAAAAAAAAAAAAAAAAAAAAAAAAAAAAAAAAAAAAAAAAAAAAAAAAAAAAAAAAAAAAAAAAAAAAAAAAAAAAAAAAAAAAAAAAAAAAAAAAAAAAAAAAAAAAAAAAAAAAAAAAAAAAAAAAAAAAAAAAAAAAAAAAAAAAAAAAAAAAAAAAAAAAAAAAAAAAAAAAAAAAAAAAAAAAAAAAAAAAAAAAAAAAAAAAAAAAAAAAAAAAAAAAAAAAAAAAAAAAAAAAAAAAAAAAAAAAAAAAAAAAAAAAAAAAAAAAAAAAAAAAAAAAAAAAAAAAAAAAAAAAAAAAAAAAAAAAAAAAAAAAAAAAAAAAAAAAAAAAAAAAAAAAAAAAAAAAAAAAAAAAAAAAAAAAAAAAAAAAAAAAAAAAAAAAAAAAAAAAAAAAAAAAAAAAAAAAAAAAAAAAAAAAAAAAAAAAAAAAAAAAAAAAAAAAAAAAAAAAAAAAAAAAAAAAAAAAAAAAAAAAAAAAAAAAAAAAAAAAAAAAAAAAAAAAAAAAAAAAAAAAAAAAAAAAAAAAAAAAAAAAAAAAAAAAAAAAAAAAAAAAAAAAAAAAAAAAAAAAAAAAAAAAAAAAAAAAAAAAAAAAAAAAAAAAAAAAAAAAAAAAAAAAAAAAAAAAAAAAAAAAAAAAAAAAAAAAAAAAAAAAAAAAAAAAAAAAAAAAAAAAAAAAAAAAAAAAAAAAAAAAAAAAAAAAAAAAAAAAAAAAAAAAAAAAAAAAAAAAAAAAAAAAAAAAAAAAAAAAAAAAAAAAAAAAAAAAAAAAAAAAAAAAAAAAAAAAAAAAAAAAAAAAAAAAAAAAAAAAAAAAAAAAAAAAAAAAAAAAAAAAAAAAAAAAAAAAAAAAAAAAAAAAAAAAAAAAAAAAAAAAAAAAAAAAAAAAAAAAAAAAAAAAAAAAAAAAAAAAAAAAAAAAAAAAAAAAAAAAAAAAAAAAAAAAAAAAAAAAAAAAAAAAAAAAAAAAAAAAAAAAAAAAAAAAAAAAAAAAAAAAAAAAAAAAAAAAAAAAAAAAAAAAAAAAAAAAAAAAAAAAAAAAAAAAAAAAAAAAAAAAAAAAAAAAAAAAAAAAAAAAAAAAAAAAAAAAAAAAAAAAAAAAAAAAAAAAAAAAAAAAAAAAAAAAAAAAAAAAAAAAAAAAAAAAAAAAAAAAAAAAAAAAAAAAAAAAAAAAAAAAAAAAAAAAAAAAAAAAAAAAAAAAAAAAAAAAAAAAAAAAAAAAAAAAAAAAAAAAAAAAAAAAAAAAAAAAAAAAAAAAAAAAAAAAAAAAAAAAAAAAAAAAAAAAAAAAAAAAAAAAAAAAAAAAAAAAAAAAAAAAAAAAAAAAAAAAAAAAAAAAAAAAAAAAAAAAAAAAAAAAAAAAAAAAAAAAAAAAAAAAAAAAAAAAAAAAAAAAAAAAAAAAAAAAAAAAAAAAAAAAAAAAAAAAAAAAAAAAAAAAAAAAAAAAAAAAAAAAAAAAAAAAAAAAAAAAAAAAAAAAAAAAAAAAAAAAAAAAAAAAAAAAAAAAAAAAAAAAAAAAAAAAAAAAAAAAAAAAAAAAAAAAAAAAAAAAAAAAAAAAAAAAAAAAAAAAAAAAAAAAAAAAAAAAAAAAAAAAAAAAAAAAAAAAAAAAAAAAAAAAAAAAAAAAAAAAAAAAAAAAAAAAAAAAAAAAAAAAAAAAAAAAAAAAAAAAAAAAAAAAAAAAAAAAAAAAAAAAAAAAAAAAAAAAAAAAAAAAAAAAAAAAAAAAAAAAAAAAAAAAAAAAAAAAAAAAAAAAAAAAAAAAAAAAAAAAAAAAAAAAAAAAAAAAAAAAAAAAAAAAAAAAAAAAAAAAAAAAAAAAAAAAAAAAAAAAAAAAAAAAAAAAAAAAAAAAAAAAAAAAAAAAAAAAAAAAAAAAAAAAAAAAAAAAAAAAAAAAAAAAAAAAAAAAAAAAAAAAAAAAAAAAAAAAAAAAAAAAAAAAAAAAAAAAAAAAAAAAAAAAAAAAAAAAAAAAAAAAAAAAAAAAAAAAAAAAAAAAAAAAAAAAAAAAAAAAAAAAAAAAAAAAAAAAAAAAAAAAAAAAAAAAAAAAAAAAAAAAAAAAAAAAAAAAAAAAAAAAAAAAAAAAAAAAAAAAAAAAAAAAAAAAAAAAAAAAAAAAAAAAAAAAAAAAAAAAAAAAAAAAAAAAAAAAAAAAAAAAAAAAAAAAAAAAAAAAAAAAAAAAAAAAAAAAAAAAAAAAAAAAAAAAAAAAAAAAAAAAAAAAAAAAAAAAAAAAAAAAAAAAAAAAAAAAAAAAAAAAAAAAAAAAAAAAAAAAAAAAAAAAAAAAAAAAAAAAAAAAAAAAAAAAAAAAAAAAAAAAAAAAAAAAAAAAAAAAAAAAAAAAAAAAAAAAAAAAAAAAAAAAAAAAAAAAAAAAAAAAAAAAAAAAAAAAAAAAAAAAAAAAAAAAAAAAAAAAAAAAAAAAAAAAAAAAAAAAAAAAAAAAAAAAAAAAAAAAAAAAAAAAAAAAAAAAAAAAAAAAAAAAAAAAAAAAAAAAAAAAAAAAAAAAAAAAAAAAAAAAAAAAAAAAAAAAAAAAAAAAAAAAAAAAAAAAAAAAAAAAAAAAAAAAAAAAAAAAAAAAAAAAAAAAAAAAAAAAAAAAAAAAAAAAAAAAAAAAAAAAAAAAAAAAAAAAAAAAAAAAAAAAAAAAAAAAAAAAAAAAAAAAAAAAAAAAAAAAAAAAAAAAAAAAAAAAAAAAAAAAAAAAAAAAAAAAAAAAAAAAAAAAAAAAAAAAAAAAAAAAAAAAAAAAAAAAAAAAAAAAAAAAAAAAAAAAAAAAAAAAAAAAAAAAAAAAAAAAAAAAAAAAAAAAAAAAAAAAAAAAAAAAAAAAAAAAAAAAAAAAAAAAAAAAAAAAAAAAAAAAAAAAAAAAAAAAAAAAAAAAAAAAAAAAAAAAAAAAAAAAAAAAAAAAAAAAAAAAAAAAAAAAAAAAAAAAAAAAAAAAAAAAAAAAAAAAAAAAAAAAAAAAAAAAAAAAAAAAAAAAAAAAAAAAAAAAAAAAAAAAAAAAAAAAAAAAAAAAAAAAAAAAAAAAAAAAAAAAAAAAAAAAAAAAAAAAAAAAAAAAAAAAAAAAAAAAAAAAAAAAAAAAAAAAAAAAAAAAAAAAAAAAAAAAAAAAAAAAAAAAAAAAAAAAAAAAAAAAAAAAAAAAAAAAAAAAAAAAAAAAAAAAAAAAAAAAAAAAAAAAAAAAAAAAAAAAAAAAAAAAAAAAAAAAAAAAAAAAAAAAAAAAAAAAAAAAAAAAAAAAAAAAAAAAAAAAAAAAAAAAAAAAAAAAAAAAAAAAAAAAAAAAAAAAAAAAAAAAAAAAAAAAAAAAAAAAAAAAAAAAAAAAAAAAAAAAAAAAAAAAAAAAAAAAAAAAAAAAAAAAAAAAAAAAAAAAAAAAAAAAAAAAAAAAAAAAAAAAAAAAAAAAAAAAAAAAAAAAAAAAAAAAAAAAAAAAAAAAAAAAAAAAAAAAAAAAAAAAAAAAAAAAAAAAAAAAAAAAAAAAAAAAAAAAAAAAAAAAAAAAAAAAAAAAAAAAAAAAAAAAAAAAAAAAAAAAAAAAAAAAAAAAAAAAAAAAAAAAAAAAAAAAAAAAAAAAAAAAAAAAAAAAAAAAAAAAAAAAAAAAAAAAAAAAAAAAAAAAAAAAAAAAAAAAAAAAAAAAAAAAAAAAAAAAAAAAAAAAAAAAAAAAAAAAAAAAAAAAAAAAAAAAAAAAAAAAAAAAAAAAAAAAAAAAAAAAAAAAAAAAAAAAAAAAAAAAAAAAAAAAAAAAAAAAAAAAAAAAAAAAAAAAAAAAAAAAAAAAAAAAAAAAAAAAAAAAAAAAAAAAAAAAAAAAAAAAAAAAAAAAAAAAAAAAAAAAAAAAAAAAAAAAAAAAAAAAAAAAAAAAAAAAAAAAAAAAAAAAAAAAAAAAAAAAAAAAAAAAAAAAAAAAAAAAAAAAAAAAAAAAAAAAAAAAAAAAAAAAAAAAAAAAAAAAAAAAAAAAAAAAAAAAAAAAAAAAAAAAAAAAAAAAAAAAAAAAAAAAAAAAAAAAAAAAAAAAAAAAAAAAAAAAAAAAAAAAAAAAAAAAAAAAAAAAAAAAAAAAAAAAAAAAAAAAAAAAAAAAAAAAAAAAAAAAAAAAAAAAAAAAAAAAAAAAAAAAAAAAAAAAAAAAAAAAAAAAAAAAAAAAAAAAAAAAAAAAAAAAAAAAAAAAAAAAAAAAAAAAAAAAAAAAAAAAAAAAAAAAAAAAAAAAAAAAAAAAAAAAAAAAAAAAAAAAAAAAAAAAAAAAAAAAAAAAAAAAAAAAAAAAAAAAAAAAAAAAAAAAAAAAAAAAAAAAAAAAAAAAAAAAAAAAAAAAAAAAAAAAAAAAAAAAAAAAAAAAAAAAAAAAAAAAAAAAAAAAAAAAAAAAAAAAAAAAAAAAAAAAAAAAAAAAAAAAAAAAAAAAAAAAAAAAAAAAAAAAAAAAAAAAAAAAAAAAAAAAAAAAAAAAAAAAAAAAAAAAAAAAAAAAAAAAAAAAAAAAAAAAAAAAAAAAAAAAAAAAAAAAAAAAAAAAAAAAAAAAAAAAAAAAAAAAAAAAAAAAAAAAAAAAAAAAAAAAAAAAAAAAAAAAAAAAAAAAAAAAAAAAAAAAAAAAAAAAAAAAAAAAAAAAAAAAAAAAAAAAAAAAAAAAAAAAAAAAAAAAAAAAAAAAAAAAAAAAAAAAAAAAAAAAAAAAAAAAAAAAAAAAAAAAAAAAAAAAAAAAAAAAAAAAAAAAAAAAAAAAAAAAAAAAAAAAAAAAAAAAAAAAAAAAAAAAAAAAAAAAAAAAAAAAAAAAAAAAAAAAAAAAAAAAAAAAAAAAAAAAAAAAAAAAAAAAAAAAAAAAAAAAAAAAAAAAAAAAAAAAAAAAAAAAAAAAAAAAAAAAAAAAAAAAAAAAAAAAAAAAAAAAAAAAAAAAAAAAAAAAAAAAAAAAAAAAAAAAAAAAAAAAAAAAAAAAAAAAAAAAAAAAAAAAAAAAAAAAAAAAAAAAAAAAAAAAAAAAAAAAAAAAAAAAAAAAAAAAAAAAAAAAAAAAAAAAAAAAAAAAAAAAAAAAAAAAAAAAAAAAAAAAAAAAAAAAAAAAAAAAAAAAAAAAAAAAAAAAAAAAAAAAAAAAAAAAAAAAAAAAAAAAAAAAAAAAAAAAAAAAAAAAAAAAAAAAAAAAAAAAAAAAAAAAAAAAAAAAAAAAAAAAAAAAAAAAAAAAAAAAAAAAAAAAAAAAAAAAAAAAAAAAAAAAAAAAAAAAAAAAAAAAAAAAAAAAAAAAAAAAAAAAAAAAAAAAAAAAAAAAAAAAAAAAAAAAAAAAAAAAAAAAAAAAAAAAAAAAAAAAAAAAAAAAAAAAAAAAAAAAAAAAAAAAAAAAAAAAAAAAAAAAAAAAAAAAAAAAAAAAAAAAAAAAAAAAAAAAAAAAAAAAAAAAAAAAAAAAAAAAAAAAAAAAAAAAAAAAAAAAAAAAAAAAAAAAAAAAAAAAAAAAAAAAAAAAAAAAAAAAAAAAAAAAAAAAAAAAAAAAAAAAAAAAAAAAAAAAAAAAAAAAAAAAAAAAAAAAAAAAAAAAAAAAAAAAAAAAAAAAAAAAAAAAAAAAAAAAAAAAAAAAAAAAAAAAAAAAAAAAAAAAAAAAAAAAAAAAAAAAAAAAAAAAAAAAAAAAAAAAAAAAAAAAAAAAAAAAAAAAAAAAAAAAAAAAAAAAAAAAAAAAAAAAAAAAAAAAAAAAAAAAAAAAAAAAAAAAAAAAAAAAAAAAAAAAAAAAAAAAAAAAAAAAAAAAAAAAAAAAAAAAAAAAAAAAAAAAAAAAAAAAAAAAAAAAAAAAAAAAAAAAAAAAAAAAAAAAAAAAAAAAAAAAAAAAAAAAAAAAAAAAAAAAAAAAAAAAAAAAAAAAAAAAAAAAAAAAAAAAAAAAAAAAAAAAAAAAAAAAAAAAAAAAAAAAAAAAAAAAAAAAAAAAAAAAAAAAAAAAAAAAAAAAAAAAAAAAAAAAAAAAAAAAAAAAAAAAAAAAAAAAAAAAAAAAAAAAAAAAAAAAAAAAAAAAAAAAAAAAAAAAAAAAAAAAAAAAAAAAAAAAAAAAAAAAAAAAAAAAAAAAAAAAAAAAAAAAAAAAAAAAAAAAAAAAAAAAAAAAAAAAAAAAAAAAAAAAAAAAAAAAAAAAAAAAAAAAAAAAAAAAAAAAAAAAAAAAAAAAAAAAAAAAAAAAAAAAAAAAAAAAAAAAAAAAAAAAAAAAAAAAAAAAAAAAAAAAAAAAAAAAAAAAAAAAAAAAAAAAAAAAAAAAAAAAAAAAAAAAAAAAAAAAAAAAAAAAAAAAAAAAAAAAAAAAAAAAAAAAAAAAAAAAAAAAAAAAAAAAAAAAAAAAAAAAAAAAAAAAAAAAAAAAAAAAAAAAAAAAAAAAAAAAAAAAAAAAAAAAAAAAAAAAAAAAAAAAAAAAAAAAAAAAAAAAAAAAAAAAAAAAAAAAAAAAAAAAAAAAAAAAAAAAAAAAAAAAAAAAAAAAAAAAAAAAAAAAAAAAAAAAAAAAAAAAAAAAAAAAAAAAAAAAAAAAAAAAAAAAAAAAAAAAAAAAAAAAAAAAAAAAAAAAAAAAAAAAAAAAAAAAAAAAAAAAAAAAAAAAAAAAAAAAAAAAAAAAAAAAAAAAAAAAAAAAAAAAAAAAAAAAAAAAAAAAAAAAAAAAAAAAAAAAAAAAAAAAAAAAAAAAAAAAAAAAAAAAAAAAAAAAAAAAAAAAAAAAAAAAAAAAAAAAAAAAAAAAAAAAAAAAAAAAAAAAAAAAAAAAAAAAAAAAAAAAAAAAAAAAAAAAAAAAAAAAAAAAAAAAAAAAAAAAAAAAAAAAAAAAAAAAAAAAAAAAAAAAAAAAAAAAAAAAAAAAAAAAAAAAAAAAAAAAAAAAAAAAAAAAAAAAAAAAAAAAAAAAAAAAAAAAAAAAAAAAAAAAAAAAAAAAAAAAAAAAAAAAAAAAAAAAAAAAAAAAAAAAAAAAAAAAAAAAAAAAAAAAAAAAAAAAAAAAAAAAAAAAAAAAAAAAAAAAAAAAAAAAAAAAAAAAAAAAAAAAAAAAAAAAAAAAAAAAAAAAAAAAAAAAAAAAAAAAAAAAAAAAAAAAAAAAAAAAAAAAAAAAAAAAAAAAAAAAAAAAAAAAAAAAAAAAAAAAAAAAAAAAAAAAAAAAAAAAAAAAAAAAAAAAAAAAAAAAAAAAAAAAAAAAAAAAAAAAAAAAAAAAAAAAAAAAAAAAAAAAAAAAAAAAAAAAAAAAAAAAAAAAAAAAAAAAAAAAAAAAAAAAAAAAAAAAAAAAAAAAAAAAAAAAAAAAAAAAAAAAAAAAAAAAAAAAAAAAAAAAAAAAAAAAAAAAAAAAAAAAAAAAAAAAAAAAAAAAAAAAAAAAAAAAAAAAAAAAAAAAAAAAAAAAAAAAAAAAAAAAAAAAAAAAAAAAAAAAAAAAAAAAAAAAAAAAAAAAAAAAAAAAAAAAAAAAAAAAAAAAAAAAAAAAAAAAAAAAAAAAAAAAAAAAAAAAAAAAAAAAAAAAAAAAAAAAAAAAAAAAAAAAAAAAAAAAAAAAAAAAAAAAAAAAAAAAAAAAAAAAAAAAAAAAAAAAAAAAAAAAAAAAAAAAAAAAAAAAAAAAAAAAAAAAAAAAAAAAAAAAAAAAAAAAAAAAAAAAAAAAAAAAAAAAAAAAAAAAAAAAAAAAAAAAAAAAAAAAAAAAAAAAAAAAAAAAAAAAAAAAAAAAAAAAAAAAAAAAAAAAAAAAAAAAAAAAAAAAAAAAAAAAAAAAAAAAAAAAAAAAAAAAAAAAAAAAAAAAAAAAAAAAAAAAAAAAAAAAAAAAAAAAAAAAAAAAAAAAAAAAAAAAAAAAAAAAAAAAAAAAAAAAAAAAAAAAAAAAAAAAAAAAAAAAAAAAAAAAAAAAAAAAAAAAAAAAAAAAAAAAAAAAAAAAAAAAAAAAAAAAAAAAAAAAAAAAAAAAAAAAAAAAAAAAAAAAAAAAAAAAAAAAAAAAAAAAAAAAAAAAAAAAAAAAAAAAAAAAAAAAAAAAAAAAAAAAAAAAAAAAAAAAAAAAAAAAAAAAAAAAAAAAAAAAAAAAAAAAAAAAAAAAAAAAAAAAAAAAAAAAAAAAAAAAAAAAAAAAAAAAAAAAAAAAAAAAAAAAAAAAAAAAAAAAAAAAAAAAAAAAAAAAAAAAAAAAAAAAAAAAAAAAAAAAAAAAAAAAAAAAAAAAAAAAAAAAAAAAAAAAAAAAAAAAAAAAAAAAAAAAAAAAAAAAAAAAAAAAAAAAAAAAAAAAAAAAAAAAAAAAAAAAAAAAAAAAAAAAAAAAAAAAAAAAAAAAAAAAAAAAAAAAAAAAAAAAAAAAAAAAAAAAAAAAAAAAAAAAAAAAAAAAAAAAAAAAAAAAAAAAAAAAAAAAAAAAAAAAAAAAAAAAAAAAAAAAAAAAAAAAAAAAAAAAAAAAAAAAAAAAAAAAAAAAAAAAAAAAAAAAAAAAAAAAAAAAAAAAAAAAAAAAAAAAAAAAAAAAAAAAAAAAAAAAAAAAAAAAAAAAAAAAAAAAAAAAAAAAAAAAAAAAAAAAAAAAAAAAAAAAAAAAAAAAAAAAAAAAAAAAAAAAAAAAAAAAAAAAAAAAAAAAAAAAAAAAAAAAAAAAAAAAAAAAAAAAAAAAAAAAAAAAAAAAAAAAAAAAAAAAAAAAAAAAAAAAAAAAAAAAAAAAAAAAAAAAAAAAAAAAAAAAAAAAAAAAAAAAAAAAAAAAAAAAAAAAAAAAAAAAAAAAAAAAAAAAAAAAAAAAAAAAAAAAAAAAAAAAAAAAAAAAAAAAAAAAAAAAAAAAAAAAAAAAAAAAAAAAAAAAAAAAAAAAAAAAAAAAAAAAAAAAAAAAAAAAAAAAAAAAAAAAAAAAAAAAAAAAAAAAAAAAAAAAAAAAAAAAAAAAAAAAAAAAAAAAAAAAAAAAAAAAAAAAAAAAAAAAAAAAAAAAAAAAAAAAAAAAAAAAAAAAAAAAAAAAAAAAAAAAAAAAAAAAAAAAAAAAAAAAAAAAAAAAAAAAAAAAAAAAAAAAAAAAAAAAAAAAAAAAAAAAAAAAAAAAAAAAAAAAAAAAAAAAAAAAAAAAAAAAAAAAAAAAAAAAAAAAAAAAAAAAAAAAAAAAAAAAAAAAAAAAAAAAAAAAAAAAAAAAAAAAAAAAAAAAAAAAAAAAAAAAAAAAAAAAAAAAAAAAAAAAAAAAAAAAAAAAAAAAAAAAAAAAAAAAAAAAAAAAAAAAAAAAAAAAAAAAAAAAAAAAAAAAAAAAAAAAAAAAAAAAAAAAAAAAAAAAAAAAAAAAAAAAAAAAAAAAAAAAAAAAAAAAAAAAAAAAAAAAAAAAAAAAAAAAAAAAAAAAAAAAAAAAAAAAAAAAAAAAAAAAAAAAAAAAAAAAAAAAAAAAAAAAAAAAAAAAAAAAAAAAAAAAAAAAAAAAAAAAAAAAAAAAAAAAAAAAAAAAAAAAAAAAAAAAAAAAAAAAAAAAAAAAAAAAAAAAAAAAAAAAAAAAAAAAAAAAAAAAAAAAAAAAAAAAAAAAAAAAAAAAAAAAAAAAAAAAAAAAAAAAAAAAAAAAAAAAAAAAAAAAAAAAAAAAAAAAAAAAAAAAAAAAAAAAAAAAAAAAAAAAAAAAAAAAAAAAAAAAAAAAAAAAAAAAAAAAAAAAAAAAAAAAAAAAAAAAAAAAAAAAAAAAAAAAAAAAAAAAAAAAAAAAAAAAAAAAAAAAAAAAAAAAAAAAAAAAAAAAAAAAAAAAAAAAAAAAAAAAAAAAAAAAAAAAAAAAAAAAAAAAAAAAAAAAAAAAAAAAAAAAAAAAAAAAAAAAAAAAAAAAAAAAAAAAAAAAAAAAAAAAAAAAAAAAAAAAAAAAAAAAAAAAAAAAAAAAAAAAAAAAAAAAAAAAAAAAAAAAAAAAAAAAAAAAAAAAAAAAAAAAAAAAAAAAAAAAAAAAAAAAAAAAAAAAAAAAAAAAAAAAAAAAAAAAAAAAAAAAAAAAAAAAAAAAAAAAAAAAAAAAAAAAAAAAAAAAAAAAAAAAAAAAAAAAAAAAAAAAAAAAAAAAAAAAAAAAAAAAAAAAAAAAAAAAAAAAAAAAAAAAAAAAAAAAAAAAAAAAAAAAAAAAAAAAAAAAAAAAAAAAAAAAAAAAAAAAAAAAAAAAAAAAAAAAAAAAAAAAAAAAAAAAAAAAAAAAAAAAAAAAAAAAAAAAAAAAAAAAAAAAAAAAAAAAAAAAAAAAAAAAAAAAAAAAAAAAAAAAAAAAAAAAAAAAAAAAAAAAAAAAAAAAAAAAAAAAAAAAAAAAAAAAAAAAAAAAAAAAAAAAAAAAAAAAAAAAAAAAAAAAAAAAAAAAAAAAAAAAAAAAAAAAAAAAAAAAAAAAAAAAAAAAAAAAAAAAAAAAAAAAAAAAAAAAAAAAAAAAAAAAAAAAAAAAAAAAAAAAAAAAAAAAAAAAAAAAAAAAAAAAAAAAAAAAAAAAAAAAAAAAAAAAAAAAAAAAAAAAAAAAAAAAAAAAAAAAAAAAAAAAAAAAAAAAAAAAAAAAAAAAAAAAAAAAAAAAAAAAAAAAAAAAAAAAAAAAAAAAAAAAAAAAAAAAAAAAAAAAAAAAAAAAAAAAAAAAAAAAAAAAAAAAAAAAAAAAAAAAAAAAAAAAAAAAAAAAAAAAAAAAAAAAAAAAAAAAAAAAAAAAAAAAAAAAAAAAAAAAAAAAAAAAAAAAAAAAAAAAAAAAAAAAAAAAAAAAAAAAAAAAAAAAAAAAAAAAAAAAAAAAAAAAAAAAAAAAAAAAAAAAAAAAAAAAAAAAAAAAAAAAAAAAAAAAAAAAAAAAAAAAAAAAAAAAAAAAAAAAAAAAAAAAAAAAAAAAAAAAAAAAAAAAAAAAAAAAAAAAAAAAAAAAAAAAAAAAAAAAAAAAAAAAAAAAAAAAAAAAAAAAAAAAAAAAAAAAAAAAAAAAAAAAAAAAAAAAAAAAAAAAAAAAAAAAAAAAAAAAAAAAAAAAAAAAAAAAAAAAAAAAAAAAAAAAAAAAAAAAAAAAAAAAAAAAAAAAAAAAAAAAAAAAAAAAAAAAAAAAAAAAAAAAAAAAAAAAAAAAAAAAAAAAAAAAAAAAAAAAAAAAAAAAAAAAAAAAAAAAAAAAAAAAAAAAAAAAAAAAAAAAAAAAAAAAAAAAAAAAAAAAAAAAAAAAAAAAAAAAAAAAAAAAAAAAAAAAAAAAAAAAAAAAAAAAAAAAAAAAAAAAAAAAAAAAAAAAAAAAAAAAAAAAAAAAAAAAAAAAAAAAAAAAAAAAAAAAAAAAAAAAAAAAAAAAAAAAAAAAAAAAAAAAAAAAAAAAAAAAAAAAAAAAAAAAAAAAAAAAAAAAAAAAAAAAAAAAAAAAAAAAAAAAAAAAAAAAAAAAAAAAAAAAAAAAAAAAAAAAAAAAAAAAAAAAAAAAAAAAAAAAAAAAAAAAAAAAAAAAAAAAAAAAAAAAAAAAAAAAAAAAAAAAAAAAAAAAAAAAAAAAAAAAAAAAAAAAAAAAAAAAAAAAAAAAAAAAAAAAAAAAAAAAAAAAAAAAAAAAAAAAAAAAAAAAAAAAAAAAAAAAAAAAAAAAAAAAAAAAAAAAAAAAAAAAAAAAAAAAAAAAAAAAAAAAAAAAAAAAAAAAAAAAAAAAAAAAAAAAAAAAAAAAAAAAAAAAAAAAAAAAAAAAAAAAAAAAAAAAAAAAAAAAAAAAAAAAAAAAAAAAAAAAAAAAAAAAAAAAAAAAAAAAAAAAAAAAAAAAAAAAAAAAAAAAAAAAAAAAAAAAAAAAAAAAAAAAAAAAAAAAAAAAAAAAAAAAAAAAAAAAAAAAAAAAAAAAAAAAAAAAAAAAAAAAAAAAAAAAAAAAAAAAAAAAAAAAAAAAAAAAAAAAAAAAAAAAAAAAAAAAAAAAAAAAAAAAAAAAAAAAAAAAAAAAAAAAAAAAAAAAAAAAAAAAAAAAAAAAAAAAAAAAAAAAAAAAAAAAAAAAAAAAAAAAAAAAAAAAAAAAAAAAAAAAAAAAAAAAAAAAAAAAAAAAAAAAAAAAAAAAAAAAAAAAAAAAAAAAAAAAAAAAAAAAAAAAAAAAAAAAAAAAAAAAAAAAAAAAAAAAAAAAAAAAAAAAAAAAAAAAAAAAAAAAAAAAAAAAAAAAAAAAAAAAAAAAAAAAAAAAAAAAAAAAAAAAAAAAAAAAAAAAAAAAAAAAAAAAAAAAAAAAAAAAAAAAAAAAAAAAAAAAAAAAAAAAAAAAAAAAAAAAAAAAAAAAAAAAAAAAAAAAAAAAAAAAAAAAAAAAAAAAAAAAAAAAAAAAAAAAAAAAAAAAAAAAAAAAAAAAAAAAAAAAAAAAAAAAAAAAAAAAAAAAAAAAAAAAAAAAAAAAAAAAAAAAAAAAAAAAAAAAAAAAAAAAAAAAAAAAAAAAAAAAAAAAAAAAAAAAAAAAAAAAAAAAAAAAAAAAAAAAAAAAAAAAAAAAAAAAAAAAAAAAAAAAAAAAAAAAAAAAAAAAAAAAAAAAAAAAAAAAAAAAAAAAAAAAAAAAAAAAAAAAAAAAAAAAAAAAAAAAAAAAAAAAAAAAAAAAAAAAAAAAAAAAAAAAAAAAAAAAAAAAAAAAAAAAAAAAAAAAAAAAAAAAAAAAAAAAAAAAAAAAAAAAAAAAAAAAAAAAAAAAAAAAAAAAAAAAAAAAAAAAAAAAAAAAAAAAAAAAAAAAAAAAAAAAAAAAAAAAAAAAAAAAAAAAAAAAAAAAAAAAAAAAAAAAAAAAAAAAAAAAAAAAAAAAAAAAAAAAAAAAAAAAAAAAAAAAAAAAAAAAAAAAAAAAAAAAAAAAAAAAAAAAAAAAAAAAAAAAAAAAAAAAAAAAAAAAAAAAAAAAAAAAAAAAAAAAAAAAAAAAAAAAAAAAAAAAAAAAAAAAAAAAAAAAAAAAAAAAAAAAAAAAAAAAAAAAAAAAAAAAAAAAAAAAAAAAAAAAAAAAAAAAAAAAAAAAAAAAAAAAAAAAAAAAAAAAAAAAAAAAAAAAAAAAAAAAAAAAAAAAAAAAAAAAAAAAAAAAAAAAAAAAAAAAAAAAAAAAAAAAAAAAAAAAAAAAAAAAAAAAAAAAAAAAAAAAAAAAAAAAAAAAAAAAAAAAAAAAAAAAAAAAAAAAAAAAAAAAAAAAAAAAAAAAAAAAAAAAAAAAAAAAAAAAAAAAAAAAAAAAAAAAAAAAAAAAAAAAAAAAAAAAAAAAAAAAAAAAAAAAAAAAAAAAAAAAAAAAAAAAAAAAAAAAAAAAAAAAAAAAAAAAAAAAAAAAAAAAAAAAAAAAAAAAAAAAAAAAAAAAAAAAAAAAAAAAAAAAAAAAAAAAAAAAAAAAAAAAAAAAAAAAAAAAAAAAAAAAAAAAAAAAAAAAAAAAAAAAAAAAAAAAAAAAAAAAAAAAAAAAAAAAAAAAAAAAAAAAAAAAAAAAAAAAAAAAAAAAAAAAAAAAAAAAAAAAAAAAAAAAAAAAAAAAAAAAAAAAAAAAAAAAAAAAAAAAAAAAAAAAAAAAAAAAAAAAAAAAAAAAAAAAAAAAAAAAAAAAAAAAAAAAAAAAAAAAAAAAAAAAAAAAAAAAAAAAAAAAAAAAAAAAAAAAAAAAAAAAAAAAAAAAAAAAAAAAAAAAAAAAAAAAAAAAAAAAAAAAAAAAAAAAAAAAAAAAAAAAAAAAAAAAAAAAAAAAAAAAAAAAAAAAAAAAAAAAAAAAAAAAAAAAAAAAAAAAAAAAAAAAAAAAAAAAAAAAAAAAAAAAAAAAAAAAAAAAAAAAAAAAAAAAAAAAAAAAAAAAAAAAAAAAAAAAAAAAAAAAAAAAAAAAAAAAAAAAAAAAAAAAAAAAAAAAAAAAAAAAAAAAAAAAAAAAAAAAAAAAAAAAAAAAAAAAAAAAAAAAAAAAAAAAAAAAAAAAAAAAAAAAAAAAAAAAAAAAAAAAAAAAAAAAAAAAAAAAAAAAAAAAAAAAAAAAAAAAAAAAAAAAAAAAAAAAAAAAAAAAAAAAAAAAAAAAAAAAAAAAAAAAAAAAAAAAAAAAAAAAAAAAAAAAAAAAAAAAAAAAAAAAAAAAAAAAAAAAAAAAAAAAAAAAAAAAAAAAAAAAAAAAAAAAAAAAAAAAAAAAAAAAAAAAAAAAAAAAAAAAAAAAAAAAAAAAAAAAAAAAAAAAAAAAAAAAAAAAAAAAAAAAAAAAAAAAAAAAAAAAAAAAAAAAAAAAAAAAAAAAAAAAAAAAAAAAAAAAAAAAAAAAAAAAAAAAAAAAAAAAAAAAAAAAAAAAAAAAAAAAAAAAAAAAAAAAAAAAAAAAAAAAAAAAAAAAAAAAAAAAAAAAAAAAAAAAAAAAAAAAAAAAAAAAAAAAAAAAAAAAAAAAAAAAAAAAAAAAAAAAAAAAAAAAAAAAAAAAAAAAAAAAAAAAAAAAAAAAAAAAAAAAAAAAAAAAAAAAAAAAAAAAAAAAAAAAAAAAAAAAAAAAAAAAAAAAAAAAAAAAAAAAAAAAAAAAAAAAAAAAAAAAAAAAAAAAAAAAAAAAAAAAAAAAAAAAAAAAAAAAAAAAAAAAAAAAAAAAAAAAAAAAAAAAAAAAAAAAAAAAAAAAAAAAAAAAAAAAAAAAAAAAAAAAAAAAAAAAAAAAAAAAAAAAAAAAAAAAAAAAAAAAAAAAAAAAAAAAAAAAAAAAAAAAAAAAAAAAAAAAAAAAAAAAAAAAAAAAAAAAAAAAAAAAAAAAAAAAAAAAAAAAAAAAAAAAAAAAAAAAAAAAAAAAAAAAAAAAAAAAAAAAAAAAAAAAAAAAAAAAAAAAAAAAAAAAAAAAAAAAAAAAAAAAAAAAAAAAAAAAAAAAAAAAAAAAAAAAAAAAAAAAAAAAAAAAAAAAAAAAAAAAAAAAAAAAAAAAAAAAAAAAAAAAAAAAAAAAAAAAAAAAAAAAAAAAAAAAAAAAAAAAAAAAAAAAAAAAAAAAAAAAAAAAAAAAAAAAAAAAAAAAAAAAAAAAAAAAAAAAAAAAAAAAAAAAAAAAAAAAAAAAAAAAAAAAAAAAAAAAAAAAAAAAAAAAAAAAAAAAAAAAAAAAAAAAAAAAAAAAAAAAAAAAAAAAAAAAAAAAAAAAAAAAAAAAAAAAAAAAAAAAAAAAAAAAAAAAAAAAAAAAAAAAAAAAAAAAAAAAAAAAAAAAAAAAAAAAAAAAAAAAAAAAAAAAAAAAAAAAAAAAAAAAAAAAAAAAAAAAAAAAAAAAAAAAAAAAAAAAAAAAAAAAAAAAAAAAAAAAAAAAAAAAAAAAAAAAAAAAAAAAAAAAAAAAAAAAAAAAAAAAAAAAAAAAAAAAAAAAAAAAAAAAAAAAAAAAAAAAAAAAAAAAAAAAAAAAAAAAAAAAAAAAAAAAAAAAAAAAAAAAAAAAAAAAAAAAAAAAAAAAAAAAAAAAAAAAAAAAAAAAAAAAAAAAAAAAAAAAAAAAAAAAAAAAAAAAAAAAAAAAAAAAAAAAAAAAAAAAAAAAAAAAAAAAAAAAAAAAAAAAAAAAAAAAAAAAAAAAAAAAAAAAAAAAAAAAAAAAAAAAAAAAAAAAAAAAAAAAAAAAAAAAAAAAAAAAAAAAAAAAAAAAAAAAAAAAAAAAAAAAAAAAAAAAAAAAAAAAAAAAAAAAAAAAAAAAAAAAAAAAAAAAAAAAAAAAAAAAAAAAAAAAAAAAAAAAAAAAAAAAAAAAAAAAAAAAAAAAAAAAAAAAAAAAAAAAAAAAAAAAAAAAAAAAAAAAAAAAAAAAAAAAAAAAAAAAAAA==\" type=\"audio/wav\" />\n",
              "                    Your browser does not support the audio element.\n",
              "                </audio>\n",
              "              "
            ]
          },
          "metadata": {}
        },
        {
          "output_type": "stream",
          "name": "stdout",
          "text": [
            "--------------------------------------------------\n",
            "(8281,)\n",
            "(63, 129, 1)\n"
          ]
        },
        {
          "output_type": "display_data",
          "data": {
            "text/plain": [
              "<IPython.lib.display.Audio object>"
            ],
            "text/html": [
              "\n",
              "                <audio  controls=\"controls\" >\n",
              "                    <source src=\"data:audio/wav;base64,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\" type=\"audio/wav\" />\n",
              "                    Your browser does not support the audio element.\n",
              "                </audio>\n",
              "              "
            ]
          },
          "metadata": {}
        },
        {
          "output_type": "stream",
          "name": "stdout",
          "text": [
            "--------------------------------------------------\n",
            "(8281,)\n",
            "(63, 129, 1)\n"
          ]
        },
        {
          "output_type": "display_data",
          "data": {
            "text/plain": [
              "<IPython.lib.display.Audio object>"
            ],
            "text/html": [
              "\n",
              "                <audio  controls=\"controls\" >\n",
              "                    <source src=\"data:audio/wav;base64,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\" type=\"audio/wav\" />\n",
              "                    Your browser does not support the audio element.\n",
              "                </audio>\n",
              "              "
            ]
          },
          "metadata": {}
        },
        {
          "output_type": "stream",
          "name": "stdout",
          "text": [
            "--------------------------------------------------\n",
            "(8281,)\n",
            "(63, 129, 1)\n"
          ]
        },
        {
          "output_type": "display_data",
          "data": {
            "text/plain": [
              "<IPython.lib.display.Audio object>"
            ],
            "text/html": [
              "\n",
              "                <audio  controls=\"controls\" >\n",
              "                    <source src=\"data:audio/wav;base64,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\" type=\"audio/wav\" />\n",
              "                    Your browser does not support the audio element.\n",
              "                </audio>\n",
              "              "
            ]
          },
          "metadata": {}
        },
        {
          "output_type": "stream",
          "name": "stdout",
          "text": [
            "--------------------------------------------------\n",
            "(8281,)\n",
            "(63, 129, 1)\n"
          ]
        },
        {
          "output_type": "display_data",
          "data": {
            "text/plain": [
              "<IPython.lib.display.Audio object>"
            ],
            "text/html": [
              "\n",
              "                <audio  controls=\"controls\" >\n",
              "                    <source src=\"data:audio/wav;base64,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\" type=\"audio/wav\" />\n",
              "                    Your browser does not support the audio element.\n",
              "                </audio>\n",
              "              "
            ]
          },
          "metadata": {}
        },
        {
          "output_type": "stream",
          "name": "stdout",
          "text": [
            "--------------------------------------------------\n",
            "(8281,)\n",
            "(63, 129, 1)\n"
          ]
        },
        {
          "output_type": "display_data",
          "data": {
            "text/plain": [
              "<IPython.lib.display.Audio object>"
            ],
            "text/html": [
              "\n",
              "                <audio  controls=\"controls\" >\n",
              "                    <source src=\"data:audio/wav;base64,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\" type=\"audio/wav\" />\n",
              "                    Your browser does not support the audio element.\n",
              "                </audio>\n",
              "              "
            ]
          },
          "metadata": {}
        },
        {
          "output_type": "stream",
          "name": "stdout",
          "text": [
            "--------------------------------------------------\n",
            "(8281,)\n",
            "(63, 129, 1)\n"
          ]
        },
        {
          "output_type": "display_data",
          "data": {
            "text/plain": [
              "<IPython.lib.display.Audio object>"
            ],
            "text/html": [
              "\n",
              "                <audio  controls=\"controls\" >\n",
              "                    <source src=\"data:audio/wav;base64,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\" type=\"audio/wav\" />\n",
              "                    Your browser does not support the audio element.\n",
              "                </audio>\n",
              "              "
            ]
          },
          "metadata": {}
        },
        {
          "output_type": "stream",
          "name": "stdout",
          "text": [
            "--------------------------------------------------\n",
            "(8281,)\n",
            "(63, 129, 1)\n"
          ]
        },
        {
          "output_type": "display_data",
          "data": {
            "text/plain": [
              "<IPython.lib.display.Audio object>"
            ],
            "text/html": [
              "\n",
              "                <audio  controls=\"controls\" >\n",
              "                    <source src=\"data:audio/wav;base64,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\" type=\"audio/wav\" />\n",
              "                    Your browser does not support the audio element.\n",
              "                </audio>\n",
              "              "
            ]
          },
          "metadata": {}
        },
        {
          "output_type": "stream",
          "name": "stdout",
          "text": [
            "--------------------------------------------------\n",
            "(8281,)\n",
            "(63, 129, 1)\n"
          ]
        },
        {
          "output_type": "display_data",
          "data": {
            "text/plain": [
              "<IPython.lib.display.Audio object>"
            ],
            "text/html": [
              "\n",
              "                <audio  controls=\"controls\" >\n",
              "                    <source src=\"data:audio/wav;base64,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\" type=\"audio/wav\" />\n",
              "                    Your browser does not support the audio element.\n",
              "                </audio>\n",
              "              "
            ]
          },
          "metadata": {}
        },
        {
          "output_type": "stream",
          "name": "stdout",
          "text": [
            "--------------------------------------------------\n"
          ]
        }
      ]
    },
    {
      "cell_type": "code",
      "source": [
        "plt.figure(figsize=(10,10))\n",
        "for i in range(9):\n",
        "  plt.subplot(3,3,i+1)\n",
        "  spectrogram = get_spectrogram(x_train[i])\n",
        "  plt.imshow(spectrogram.numpy().reshape(63,129))\n",
        "\n",
        "plt.show()\n"
      ],
      "metadata": {
        "colab": {
          "base_uri": "https://localhost:8080/",
          "height": 515
        },
        "id": "0vhg6z5uRi2Z",
        "outputId": "2be49685-17bb-4332-e42a-dfa3a8df5948"
      },
      "execution_count": null,
      "outputs": [
        {
          "output_type": "display_data",
          "data": {
            "text/plain": [
              "<Figure size 720x720 with 9 Axes>"
            ],
            "image/png": "[encoded data removed]"
          },
          "metadata": {
            "needs_background": "light"
          }
        }
      ]
    },
    {
      "cell_type": "code",
      "source": [
        "def make_spec (x,y):\n",
        "  s = get_spectrogram(x)\n",
        "  return s,y\n"
      ],
      "metadata": {
        "id": "vA6EE_d6SbPJ"
      },
      "execution_count": null,
      "outputs": []
    },
    {
      "cell_type": "code",
      "source": [
        "x_train_spec, y_train_spec = make_spec(x_train, y_train)\n",
        "x_test_spec, y_test_spec = make_spec(x_test, y_test)\n",
        "x_val_spec, y_val_spec = make_spec(x_val, y_val)"
      ],
      "metadata": {
        "id": "DETg5t3hSoDN"
      },
      "execution_count": null,
      "outputs": []
    },
    {
      "cell_type": "code",
      "source": [
        "print(x_train_spec.shape)\n",
        "print(x_test_spec.shape)"
      ],
      "metadata": {
        "colab": {
          "base_uri": "https://localhost:8080/"
        },
        "id": "PjhvYjhHS457",
        "outputId": "4786c2d5-e1e2-42bf-fb45-182e5fe4561b"
      },
      "execution_count": null,
      "outputs": [
        {
          "output_type": "stream",
          "name": "stdout",
          "text": [
            "(2000, 63, 129, 1)\n",
            "(125, 141, 129, 1)\n"
          ]
        }
      ]
    },
    {
      "cell_type": "code",
      "source": [
        "model = tf.keras.models.Sequential([\n",
        "    \n",
        "    tf.keras.layers.Resizing(60,60),\n",
        "    tf.keras.layers.Conv2D(16,(3,3),padding = \"same\",activation = \"relu\"),\n",
        "    # tf.keras.layers.Conv2D(16,(3,3), activation = \"relu\"),\n",
        "    tf.keras.layers.Dropout(0.2),\n",
        "    tf.keras.layers.MaxPool2D(),\n",
        "   \n",
        "\n",
        "    tf.keras.layers.Conv2D(32,(3,3),activation = \"relu\"),\n",
        "    # tf.keras.layers.Conv2D(32,(3,3), activation = \"relu\"),\n",
        "    tf.keras.layers.MaxPool2D(),\n",
        "    tf.keras.layers.Dropout(0.2),\n",
        "\n",
        "    tf.keras.layers.Flatten(),\n",
        "    tf.keras.layers.Dense(units = 100, activation = \"relu\"),\n",
        "    tf.keras.layers.Dense(units = 10, activation = \"softmax\")\n",
        "\n",
        "\n",
        "])"
      ],
      "metadata": {
        "id": "U_V1ydy7S8Ow"
      },
      "execution_count": null,
      "outputs": []
    },
    {
      "cell_type": "code",
      "source": [
        "loss = tf.keras.losses.SparseCategoricalCrossentropy(from_logits = True)\n",
        "optimizer = tf.keras.optimizers.Adam()"
      ],
      "metadata": {
        "id": "5zS_h6HFVAu6"
      },
      "execution_count": null,
      "outputs": []
    },
    {
      "cell_type": "code",
      "source": [
        "model.compile(\n",
        "    optimizer = optimizer,\n",
        "    loss = loss,\n",
        "    metrics = [\"accuracy\"]\n",
        ")"
      ],
      "metadata": {
        "id": "CW2mPgrdVz4c"
      },
      "execution_count": null,
      "outputs": []
    },
    {
      "cell_type": "code",
      "source": [
        "history = model.fit(x_train_spec, y_train_spec, epochs = 10, validation_data=(x_val_spec, y_val_spec))"
      ],
      "metadata": {
        "colab": {
          "base_uri": "https://localhost:8080/"
        },
        "id": "U14J5d-DV7Ij",
        "outputId": "0fdb5fc1-a0ac-4b15-cee1-ea80808a89bc"
      },
      "execution_count": null,
      "outputs": [
        {
          "output_type": "stream",
          "name": "stdout",
          "text": [
            "Epoch 1/10\n"
          ]
        },
        {
          "output_type": "stream",
          "name": "stderr",
          "text": [
            "/usr/local/lib/python3.7/dist-packages/tensorflow/python/util/dispatch.py:1082: UserWarning: \"`sparse_categorical_crossentropy` received `from_logits=True`, but the `output` argument was produced by a sigmoid or softmax activation and thus does not represent logits. Was this intended?\"\n",
            "  return dispatch_target(*args, **kwargs)\n"
          ]
        },
        {
          "output_type": "stream",
          "name": "stdout",
          "text": [
            "63/63 [==============================] - 11s 154ms/step - loss: 991.1988 - accuracy: 0.4995 - val_loss: 94.8446 - val_accuracy: 0.5893\n",
            "Epoch 2/10\n",
            "63/63 [==============================] - 9s 147ms/step - loss: 65.5004 - accuracy: 0.6355 - val_loss: 48.8853 - val_accuracy: 0.6400\n",
            "Epoch 3/10\n",
            "63/63 [==============================] - 7s 117ms/step - loss: 29.7413 - accuracy: 0.7290 - val_loss: 42.0896 - val_accuracy: 0.6613\n",
            "Epoch 4/10\n",
            "63/63 [==============================] - 7s 116ms/step - loss: 18.7169 - accuracy: 0.7710 - val_loss: 40.5224 - val_accuracy: 0.6427\n",
            "Epoch 5/10\n",
            "63/63 [==============================] - 9s 139ms/step - loss: 17.6176 - accuracy: 0.7995 - val_loss: 38.4481 - val_accuracy: 0.6667\n",
            "Epoch 6/10\n",
            "63/63 [==============================] - 7s 118ms/step - loss: 12.5850 - accuracy: 0.8305 - val_loss: 27.5083 - val_accuracy: 0.6853\n",
            "Epoch 7/10\n",
            "63/63 [==============================] - 7s 115ms/step - loss: 9.4798 - accuracy: 0.8585 - val_loss: 36.5581 - val_accuracy: 0.7387\n",
            "Epoch 8/10\n",
            "63/63 [==============================] - 7s 117ms/step - loss: 8.6307 - accuracy: 0.8810 - val_loss: 22.5167 - val_accuracy: 0.7707\n",
            "Epoch 9/10\n",
            "63/63 [==============================] - 8s 120ms/step - loss: 5.3642 - accuracy: 0.8970 - val_loss: 29.2578 - val_accuracy: 0.7653\n",
            "Epoch 10/10\n",
            "63/63 [==============================] - 7s 119ms/step - loss: 6.8652 - accuracy: 0.9050 - val_loss: 21.3613 - val_accuracy: 0.7760\n"
          ]
        }
      ]
    },
    {
      "cell_type": "code",
      "source": [
        "\n",
        "\n",
        "history.history.keys()"
      ],
      "metadata": {
        "colab": {
          "base_uri": "https://localhost:8080/"
        },
        "id": "zWm2TRQ9WEXq",
        "outputId": "3d13cdd7-5680-4768-c4f6-15a610358b0b"
      },
      "execution_count": null,
      "outputs": [
        {
          "output_type": "execute_result",
          "data": {
            "text/plain": [
              "dict_keys(['loss', 'accuracy', 'val_loss', 'val_accuracy'])"
            ]
          },
          "metadata": {},
          "execution_count": 16
        }
      ]
    },
    {
      "cell_type": "code",
      "source": [
        "plt.plot(history.history[\"accuracy\"], color = \"blue\")\n",
        "plt.plot(history.history[\"val_accuracy\"],\"ro\")\n",
        "plt.xlabel(\"epochs\")\n",
        "plt.ylabel(\"accuracy\")\n",
        "plt.show()"
      ],
      "metadata": {
        "colab": {
          "base_uri": "https://localhost:8080/",
          "height": 279
        },
        "id": "tAZWmspAbWty",
        "outputId": "73154997-3277-4a90-c001-ee502e2a59cf"
      },
      "execution_count": null,
      "outputs": [
        {
          "output_type": "display_data",
          "data": {
            "text/plain": [
              "<Figure size 432x288 with 1 Axes>"
            ],
            "image/png": "[encoded data removed]"
          },
          "metadata": {
            "needs_background": "light"
          }
        }
      ]
    },
    {
      "cell_type": "code",
      "source": [
        "plt.plot(history.history[\"loss\"], color = \"red\")\n",
        "plt.plot(history.history[\"val_loss\"], \"bo\")\n",
        "plt.xlabel(\"epochs\")\n",
        "plt.ylabel(\"loss\")\n",
        "plt.show()"
      ],
      "metadata": {
        "colab": {
          "base_uri": "https://localhost:8080/",
          "height": 279
        },
        "id": "rF6EHfxdXUyF",
        "outputId": "6f6b4411-9cfa-43aa-fde3-6632fc4c4cbb"
      },
      "execution_count": null,
      "outputs": [
        {
          "output_type": "display_data",
          "data": {
            "text/plain": [
              "<Figure size 432x288 with 1 Axes>"
            ],
            "image/png": "[encoded data removed]"
          },
          "metadata": {
            "needs_background": "light"
          }
        }
      ]
    },
    {
      "cell_type": "code",
      "source": [
        "model.evaluate(x_test_spec, y_test_spec)"
      ],
      "metadata": {
        "colab": {
          "base_uri": "https://localhost:8080/"
        },
        "id": "OmZinD7BbgOr",
        "outputId": "8c5f50d4-7900-4785-b45f-d3fbb0f5a98b"
      },
      "execution_count": null,
      "outputs": [
        {
          "output_type": "stream",
          "name": "stdout",
          "text": [
            "4/4 [==============================] - 0s 30ms/step - loss: 128.0210 - accuracy: 0.4000\n"
          ]
        },
        {
          "output_type": "execute_result",
          "data": {
            "text/plain": [
              "[128.02096557617188, 0.4000000059604645]"
            ]
          },
          "metadata": {},
          "execution_count": 19
        }
      ]
    },
    {
      "cell_type": "code",
      "source": [],
      "metadata": {
        "id": "qBX33uptbni6"
      },
      "execution_count": null,
      "outputs": []
    }
  ]
}